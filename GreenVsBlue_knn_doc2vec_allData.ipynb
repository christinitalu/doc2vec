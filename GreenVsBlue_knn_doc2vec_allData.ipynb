{
 "cells": [
  {
   "cell_type": "markdown",
   "metadata": {},
   "source": [
    "資料17,166筆，正確率約70%"
   ]
  },
  {
   "cell_type": "code",
   "execution_count": 1,
   "metadata": {},
   "outputs": [
    {
     "name": "stderr",
     "output_type": "stream",
     "text": [
      "C:\\Users\\Big data\\AppData\\Local\\Programs\\Python\\Python36\\lib\\site-packages\\gensim\\utils.py:1212: UserWarning: detected Windows; aliasing chunkize to chunkize_serial\n",
      "  warnings.warn(\"detected Windows; aliasing chunkize to chunkize_serial\")\n"
     ]
    }
   ],
   "source": [
    "import pandas as pd\n",
    "import json\n",
    "import sys\n",
    "import os\n",
    "import gensim\n",
    "import numpy as np\n",
    "import glob\n",
    "from gensim.models.doc2vec import Doc2Vec"
   ]
  },
  {
   "cell_type": "code",
   "execution_count": 2,
   "metadata": {
    "scrolled": true
   },
   "outputs": [],
   "source": [
    "#load json檔案成dataframe,看一下內容\n",
    "with open('E:/news_project/bgLabel/angle/opinion_printed_all_v2.json', 'r',encoding='UTF-8') as f:\n",
    "    data = json.load(f)\n",
    "    df1 = pd.DataFrame.from_dict(data, orient='columns')\n",
    "\n",
    "df1 = df1.drop([\"author\"], axis=1)\n",
    "df1 = df1.drop([\"head\"], axis=1)\n",
    "df1 = df1.drop([\"date_\"], axis=1)\n",
    "df1 = df1.drop([\"type\"], axis=1)\n",
    "df1 = df1.drop([\"source\"], axis=1)"
   ]
  },
  {
   "cell_type": "code",
   "execution_count": 3,
   "metadata": {},
   "outputs": [],
   "source": [
    "#丟掉不要的欄位，合併成一個datafram\n",
    "df_all = pd.DataFrame(columns=['content','tag', 'title'])\n",
    "for files in glob.glob('E:/news_project/bgLabel/all/*'):\n",
    "    with open(files,\"r\", encoding=\"utf-8\") as json_data:\n",
    "        data = json.load(json_data)\n",
    "        df = pd.DataFrame.from_dict(data, orient='columns')\n",
    "    \n",
    "        df = df.drop([\"infor\"], axis=1)\n",
    "        df = df.drop([\"date_\"], axis=1)\n",
    "        df = df.drop([\"type\"], axis=1)\n",
    "        df = df.drop([\"source\"], axis=1)\n",
    "\n",
    "        df_all=pd.concat([df_all,df],axis=0,ignore_index=True )\n",
    "df_all=pd.concat([df_all,df1],axis=0,ignore_index=True )\n"
   ]
  },
  {
   "cell_type": "code",
   "execution_count": 49,
   "metadata": {},
   "outputs": [
    {
     "name": "stdout",
     "output_type": "stream",
     "text": [
      "Index(['content', 'tag', 'title', 'd2v_Vec'], dtype='object')\n"
     ]
    },
    {
     "data": {
      "text/html": [
       "<div>\n",
       "<style scoped>\n",
       "    .dataframe tbody tr th:only-of-type {\n",
       "        vertical-align: middle;\n",
       "    }\n",
       "\n",
       "    .dataframe tbody tr th {\n",
       "        vertical-align: top;\n",
       "    }\n",
       "\n",
       "    .dataframe thead th {\n",
       "        text-align: right;\n",
       "    }\n",
       "</style>\n",
       "<table border=\"1\" class=\"dataframe\">\n",
       "  <thead>\n",
       "    <tr style=\"text-align: right;\">\n",
       "      <th></th>\n",
       "      <th>content</th>\n",
       "      <th>tag</th>\n",
       "      <th>title</th>\n",
       "      <th>d2v_Vec</th>\n",
       "    </tr>\n",
       "  </thead>\n",
       "  <tbody>\n",
       "    <tr>\n",
       "      <th>0</th>\n",
       "      <td>民進 黨 的 主席 選戰 ， 儼 已成 為 「 保皇派 」 和 「 反 保皇派 」 之爭 。...</td>\n",
       "      <td>0</td>\n",
       "      <td>女皇的新衣</td>\n",
       "      <td>[-2.5054448, -0.98734796, -1.4825997, -1.54023...</td>\n",
       "    </tr>\n",
       "    <tr>\n",
       "      <th>1</th>\n",
       "      <td>葉俊榮 在 宣布 教育部 將發台 大校 長 聘書給 管中 閔 之前 ， 據 說 曾 致電 立...</td>\n",
       "      <td>0</td>\n",
       "      <td>葉部長「勇敢」的代價</td>\n",
       "      <td>[-1.6271399, -0.5152588, 0.76503277, -2.021135...</td>\n",
       "    </tr>\n",
       "    <tr>\n",
       "      <th>2</th>\n",
       "      <td>拗 了 又 拗 ， 教育部 長 葉俊榮終 於 宣布 將發台 大校 長 聘書給 管中 閔 ， ...</td>\n",
       "      <td>0</td>\n",
       "      <td>三百天才找回理性</td>\n",
       "      <td>[-1.8977276, 0.8613036, -0.82015616, -0.718078...</td>\n",
       "    </tr>\n",
       "    <tr>\n",
       "      <th>3</th>\n",
       "      <td>蘇貞昌將 接閣 揆 已 經傳 了 一陣子 。 儘 管 其 幕僚 否認 此 說 ， 但 多位 ...</td>\n",
       "      <td>0</td>\n",
       "      <td>聽說蘇貞昌接閣揆</td>\n",
       "      <td>[0.3384848, 2.0811343, -0.9328736, -1.9614244,...</td>\n",
       "    </tr>\n",
       "    <tr>\n",
       "      <th>4</th>\n",
       "      <td>柯文 哲雙 城論壇 再 提 「 兩岸 一家 親 」 ， 又 吹 皺政壇 春水 。 對照 他 ...</td>\n",
       "      <td>0</td>\n",
       "      <td>柯文哲的如意算盤</td>\n",
       "      <td>[2.101391, -1.7982857, -3.108805, -4.4197197, ...</td>\n",
       "    </tr>\n",
       "  </tbody>\n",
       "</table>\n",
       "</div>"
      ],
      "text/plain": [
       "                                             content tag       title  \\\n",
       "0  民進 黨 的 主席 選戰 ， 儼 已成 為 「 保皇派 」 和 「 反 保皇派 」 之爭 。...   0       女皇的新衣   \n",
       "1  葉俊榮 在 宣布 教育部 將發台 大校 長 聘書給 管中 閔 之前 ， 據 說 曾 致電 立...   0  葉部長「勇敢」的代價   \n",
       "2  拗 了 又 拗 ， 教育部 長 葉俊榮終 於 宣布 將發台 大校 長 聘書給 管中 閔 ， ...   0    三百天才找回理性   \n",
       "3  蘇貞昌將 接閣 揆 已 經傳 了 一陣子 。 儘 管 其 幕僚 否認 此 說 ， 但 多位 ...   0    聽說蘇貞昌接閣揆   \n",
       "4  柯文 哲雙 城論壇 再 提 「 兩岸 一家 親 」 ， 又 吹 皺政壇 春水 。 對照 他 ...   0    柯文哲的如意算盤   \n",
       "\n",
       "                                             d2v_Vec  \n",
       "0  [-2.5054448, -0.98734796, -1.4825997, -1.54023...  \n",
       "1  [-1.6271399, -0.5152588, 0.76503277, -2.021135...  \n",
       "2  [-1.8977276, 0.8613036, -0.82015616, -0.718078...  \n",
       "3  [0.3384848, 2.0811343, -0.9328736, -1.9614244,...  \n",
       "4  [2.101391, -1.7982857, -3.108805, -4.4197197, ...  "
      ]
     },
     "execution_count": 49,
     "metadata": {},
     "output_type": "execute_result"
    }
   ],
   "source": [
    "print(df_all.columns)\n",
    "df=df_all\n",
    "df.head()"
   ]
  },
  {
   "cell_type": "code",
   "execution_count": 5,
   "metadata": {},
   "outputs": [],
   "source": [
    "def split_news(news):\n",
    "    return \" \".join(jieba.cut(news))\n",
    "\n",
    "def process_news(df):\n",
    "    df['content'] = df ['content'].apply(split_news)\n",
    "    df['title'] = df['title'].str.replace('\\r','')\n",
    "    df['title'] = df['title'].str.replace('\\n','')\n",
    "    return df"
   ]
  },
  {
   "cell_type": "code",
   "execution_count": 6,
   "metadata": {},
   "outputs": [
    {
     "name": "stderr",
     "output_type": "stream",
     "text": [
      "Building prefix dict from the default dictionary ...\n",
      "Loading model from cache C:\\Users\\BIGDAT~1\\AppData\\Local\\Temp\\jieba.cache\n",
      "Loading model cost 0.690 seconds.\n",
      "Prefix dict has been built succesfully.\n"
     ]
    }
   ],
   "source": [
    "import jieba\n",
    "df = process_news(df)"
   ]
  },
  {
   "cell_type": "code",
   "execution_count": 50,
   "metadata": {},
   "outputs": [],
   "source": [
    "#取出content列為一個list\n",
    "b=list(df['content'])"
   ]
  },
  {
   "cell_type": "code",
   "execution_count": 8,
   "metadata": {},
   "outputs": [],
   "source": [
    "TaggededDocument=gensim.models.doc2vec.TaggedDocument"
   ]
  },
  {
   "cell_type": "code",
   "execution_count": 9,
   "metadata": {},
   "outputs": [],
   "source": [
    "x_train=[]\n",
    "for i, text in enumerate(b):\n",
    "    word_list = text.split(' ')\n",
    "    l = len(word_list)\n",
    "    word_list[l-1]=word_list[l-1].strip()\n",
    "    document=TaggededDocument(word_list,tags=[i])\n",
    "    x_train.append(document)\n",
    "#print(x_train)\n",
    "c = x_train"
   ]
  },
  {
   "cell_type": "code",
   "execution_count": 10,
   "metadata": {},
   "outputs": [],
   "source": [
    "model=Doc2Vec(x_train, min_count=1, window=3, vector_size=100, negative=5,workers=4)\n",
    "model.train(x_train,total_examples=model.corpus_count,epochs=10)"
   ]
  },
  {
   "cell_type": "code",
   "execution_count": 11,
   "metadata": {},
   "outputs": [],
   "source": [
    "model_dm=model"
   ]
  },
  {
   "cell_type": "code",
   "execution_count": 14,
   "metadata": {},
   "outputs": [
    {
     "name": "stderr",
     "output_type": "stream",
     "text": [
      "C:\\Users\\Big data\\AppData\\Local\\Programs\\Python\\Python36\\lib\\site-packages\\gensim\\matutils.py:737: FutureWarning: Conversion of the second argument of issubdtype from `int` to `np.signedinteger` is deprecated. In future, it will be treated as `np.int32 == np.dtype(int).type`.\n",
      "  if np.issubdtype(vec.dtype, np.int):\n"
     ]
    },
    {
     "data": {
      "text/plain": [
       "[(78, 0.810858964920044),\n",
       " (3510, 0.5051697492599487),\n",
       " (3180, 0.497667133808136)]"
      ]
     },
     "execution_count": 14,
     "metadata": {},
     "output_type": "execute_result"
    }
   ],
   "source": [
    "strl=df.iloc[78,0]\n",
    "test_text=strl.split(' ')\n",
    "#得到向量array命名為inferred_vector\n",
    "inferred_vector=model_dm.infer_vector(doc_words=test_text,alpha=0.025,steps=500)\n",
    "\n",
    "sims=model_dm.docvecs.most_similar([inferred_vector],topn=3)\n",
    "sims"
   ]
  },
  {
   "cell_type": "code",
   "execution_count": 15,
   "metadata": {},
   "outputs": [
    {
     "name": "stdout",
     "output_type": "stream",
     "text": [
      "78 0.810858964920044\n",
      "新任 調查 局長 呂文忠 上任 ， 一席 將 全力 調查 危害 國家 安全 假新聞 的 談話 ， 讓 人民 感到 一陣 寒風 。 將國安 如此 無限 上綱 ， 怎 不 令人 憂心 調查局 走向 效忠 政黨 ， 而 非 效忠 國家 的 回頭路 ？ 調查 局源 於 國民 政府 時期 的 「 軍統 」 與 國民黨 「 中統 」 ， 政府 遷台 後 負責 保防 偵查 ， 在 戒 嚴時期 成為 政治 打手 而 惡名 昭彰 。 姑不論 其 時代 背景 ， 這一頁 「 東廠 」 局史絕 不 光彩 ， 也 逼使 調查 局展 開漫長 的 「 國家化 」 歷程 ， 致力 肅貪 、 掃毒 、 查賄 等 ， 才 重拾 人民 信賴 。 如今 調查局 官網 明白 揭示 兩個 維護國安 工作 重點 ： 對受 中共 派遣 或 運用 ， 在 台灣 從 事 涉密 情 蒐 、 發展 組織 或 進行 破壞 的 個 人 或 組織 ， 以及 境內 外籍人士 或團體 蒐集 政經 、 國防 、 高科技 機密 資料 等 行為 ， 進行 監控 與 偵處 。 規範 如此 詳細 ， 實著眼 於 公權力 何其 強大 ， 自須 有 具體 違 法事 證作 為 調查 前提 ， 不容 單憑 「 國家 安全 」 的 不 確定 法律 概念 入人 於 罪 ； 並且 ， 所謂 危害 國安假 新聞 一旦 成為執 政者 遮掩 失政 的 卸責話術 ， 對國家 危害 實遠 甚假 新聞 。 二 ○ 一二 總統 大選前 ， 不過 是 一則 國安會疑 透過 調查局 對 蔡 英文 陣營 監控 的 傳聞 報導 ， 即 引發 其 強烈 批判 ； 如今 掌權後竟 想 假調 查局 之手 、 藉 國安之名 開啟 更廣 更深 的 干 預言論 自由 之門 ， 蔡 政府 心態 確實 可議 。 「 我們 是 國家 的 調查員 … 」 ， 展抱 山莊 激昂 的 「 調查員 進行曲 」 依舊 繞梁 ， 但展 抱 人 可 真 甘心 淪為 政治 打手 ， 讓 「 老牌 東廠 復 活 」 的 烏雲罩 頂 ？  0.810858964920044 316\n",
      "3510 0.5051697492599487\n",
      "去年 5 月 20 日民進 黨 全面 執政以 來 ， 兩岸關 係 江河日下 ， 重大 政策 反 反覆 覆 ， 施政 跌跌撞撞 ， 民怨 日深 ， 施政 滿意度 持續 探底 。 不過 ， 民進 黨 似乎 無意 順納 民意 、 改變 錯誤 的 政策 ， 反而 不斷 逾越 憲 法界 線 ， 集權 又 濫權 ， 甚至 企圖 打造 「 新威權 體制 」 ， 開 民主 的 倒車 。 以 行政院 版 「 資通 安全 管理法 」 草案 為例 ， 該 草案 第 18 條授權 行政 機關 得 「 派員 」 進入 「 非公 務機關 」 「 檢查 」 。 這個 條文 翻成 白話 ， 就是 行政 機關 可以 不經 法院 同意 ， 派出 不具 司法警察 身分 的 行政 人員 進入 民居 或 企業 實行 變相 搜索 。 這樣 的 條文 已 踩 中 了 多項 憲政天條 。 首先 ， 破壞 了 憲法 中 行政 與 司法 分立 的 核心 界限 ， 大法官 釋字 392 號解釋 闡明 ， 「 偵查 、 訴追 、 審判 、 刑之 執行 均屬 刑事 司法 之 過程 」 是 廣義 司法 的 一部分 ， 而 進入 民居 「 檢查 」 ， 乃是 偵查 行為 中 ， 對 人身 權利 侵害 最重 的 手段 之一 ， 此一 手段 的 行使 是 司法 權的 範圍 ， 不該 被 行政 機關 輕率 染指 。 又 如 ， 推翻 了 司法 原則 上 極為 重要 的 正當 法律 原則 ， 亦 即 程序 正義 。 因為 依 《 刑事 訴訟法 》 ， 即便 是 檢察官 、 司法警察 等 「 司法警察 人員 」 ， 其要 進入 民居 搜索 ， 需有經 法官 簽名 同意 的 搜索 票 。 「 資安法 」 讓 不具 司法警察 身分 的 人員 不必 經 法官 同意 ， 即可 進入 民居 「 檢查 」 （ 變相 搜索 ） ， 侵犯 程序 正義莫此 為 甚 。 這 不是 東廠 錦衣衛 ， 什麼 是 東廠 錦衣衛 ？ 這樣 的 惡法 ， 竟 由 把 「 人權 」 懸諸 於 口 的 民進 黨 ， 仗 著國會 多 數強 推 ， 竟然 淪 落到 「 錦衣 衛治國 」 ， 不覺 可悲 與 可恥 嗎 ？ 憲法 不容 踐 踏 ， 建立 資安 法制 以維護 國家 安全 ， 確有 其 必要 ， 但 政府 不能 要 人民 付出 如此 沉重 的 代價 。 「 資安法 」 並 不是 建構 新威權 體制 的 唯一 劣跡 ， 事實 上 ， 民進 黨 上台 後 ， 一直 企圖 把 司法 權變 造為 打擊 異己 的 統治 工具 。 已經 實施 的 《 不當 黨產 處理 條例 》 第 11 條 ， 賦予 黨產會 不經 司法 機關 與 正當 法律 程序 ， 即可 執行 侵犯 人民 權利 的 強制 調查 與 處 分權 ， 即 是 一例 。 隨後民 進黨 企圖 推動 「 國家 保防工作 法 」 ， 草案 中 研擬 未來將 在 各級 政府 機關 設置 安全 保防 處 、 設置 保防 人員 ， 對 可疑 對象 可到 家 查訪 、 通知 到場 詢問 、 查驗 身分 、 帶往 指定 處所 行政 調查 。 明目 張膽 侵犯 人權 ， 引起 社會 一致 撻 伐 ， 認為 是 「 人二 復 辟 」 ， 認為 是 為 總統 個 人 「 布眼線 、 張 耳目 」 的 東廠 錦衣衛 。 在 強大 輿論 壓力 下 ， 民進 黨 有所 忌憚 ， 暫時 偃旗息鼓 ， 但 不 多久 ， 就 藉 「 資安法 」 ， 以 另 一種 東廠 形式 捲 土 重來 。 其他 如 「 促進 轉型 正義條例 」 ， 其中 也 有 類似 擴張 行政 權 、 踐 踏 司法 權的 規定 。 一個 從 所謂 「 黨外 時期 」 就 一路 對 抗國民黨 威權 體制 、 努力 打破 國民黨 白色恐怖 的 政黨 ， 一朝 得權 完全 執政 ， 才 1 年 有 餘 就 忙不迭 著手 重建 屬於民 進黨 的 新 威權 體制 ， 要 為 台灣蓋 上 另一面 「 綠色 恐怖 」 布幔 。 黨外 時期 諸多 先進 前輩 若 仍 在世 ， 能 不 悲哀 ？ 回顧 這幾年 的 政治 大局 ， 民進 黨 透過 2 次大選大 挫國民黨 ， 國民黨 陷 於 分 崩解 構 ， 民進 黨 「 拔劍 四顧心 茫茫 」 ， 有 一種 找 不到 對手 的 傲慢 ； 從 中央 到 地方 、 從 行政 到 立法 的 完全 執政 ， 民進 黨 掌握 權力 達 到 頂峰 ； 民進 黨 在野 長 期 與 社運團體 結盟 互援 ， 收編 了 許多 社會 力量 ， 使得 今天 社運團體 在 制約民 進黨 濫權 上 ， 也 顯 得力 不 從心 ； 而民進 黨 一上台 即 廢特 偵組 ， 北檢 與 雄檢在 諸多 司法 案件 上 的 作為 也 讓 各界 有 檢察機關 淪為 行政部 門 士卒 守衛 的 疑慮 。 但民進 黨 仍 不 滿足 ， 「 絕對 的 權力 ， 絕對 的 腐化 」 竟 快速 地應驗 在 這個 初嘗 完全 執政 滋味 的 政黨 上 。 請民進 黨 想想 ， 錦衣 衛治國 的 盤算 真能 遂行 ？ 行動 網路 時代真 有永遠 執政 這 回事 ？ 以 今日 民眾 的 不滿 憤懟 、 蔡 英文 的 民調 低迷 ， 很 可能 的 情況 是 ， 民進 黨 4 年 執政期 成功 打造出 其心儀 的 「 新威權 」 ， 但 打造 完成 的 同時 ， 也 被 人民 唾棄 在野 ， 這時 ， 民進 黨 建立 的 東廠 大 軍 ， 會不會 反過 來 扼住 民進 黨 的 咽喉 ？ 成為 追 殺 蔡 英文 的 血滴 子 ？ 作法 自斃 ， 古諺 猶 在 ， 貪婪 權力 ， 害黨 害國 ， 民進 黨 及 蔡 英文 總統 萬 勿 留下 歷史 愚名 與 罵 名 。 我們 也 要 呼籲民眾 、 關心 台灣 民主 的 社會 力量 ， 如果 民進 黨 執迷 不悟 ， 人民 就要 團結 集力 ， 一起 阻擋 民進 黨 重建 新威權 體制 的 愚蠢 盤算 。  0.5051697492599487 944\n",
      "3180 0.497667133808136\n",
      "立法 委員 李俊 俋 和 行政院 長 賴清德 借 立法院 總質詢 設定 好 腳本 ， 一 搭 一唱 透露 出一個 明顯 而 可怕 的 訊息 ， 蔡 政府 真的 要 出手 打壓言論 ！ 一個 自稱 進步 力量 ， 曾經 矢志 擁抱 百分之百 言論 自由 的 政黨 ， 飽嘗權 力豐 美的 滋味 ， 一旦 面臨 民意 與 輿論 的 檢驗 ， 就 背叛 創黨 先人 的 核心理念 ， 淪 落成 為 「 打壓言論 自由 」 的 極權 政黨 ！ 從綠營 上上下下 口徑 一致 痛批 「 假新聞 」 ， 一個 走向 失敗 的 政黨 已跡 象 畢露 。 蔡 政府 這兩年 民調 聲望 一路 下挫 ， 在 全不見 起色 的 狀況 下 ， 綠營 一直 焦躁 地尋找 出口 。 日前 日本 關西 機場 事件 及 謝長 廷 發言 被 批 的 風波 ， 讓 他們 瞬間 尋到 浮木 ： 打 「 假新聞 」 ， 全然 忘 記此 一 事件 最大 假新聞 的 根源 是 綠媒網 站 。 最 讓 人 驚懼 的 是 ， 蔡 政府 心中 想 的 竟然 不是 如何 加強 溝通 ， 而是 祭出 公權力 ， 直接 打壓言論 ！ 看看 這兩人 詢答 的 腳本 ， 是不是 套招 得 很 完美 ？ 李俊 俋 大 聲 疾呼 ： 「 行政院 必須 硬 起來 ， 強硬 對 抗假 新聞 ！ 」 賴清德 立即 回應 說 ； 「 假新聞擾 亂 社會 安定 ， 政府 一定 會盤點 法規 ， 確定 修法 方向 ！ 」 而且 強調 「 本會期 就 會 提出 ！ 」 注意 到 這句 話 了 嗎 ？ 「 本會期 就 會 提出 」 ， 這 意味 蔡 政府 真的 急 了 ， 一樁 用常識 就 能識別 明顯 違憲 的 修法 舉措 ， 連討論 都 不想 討論 ， 竟要 趕著 就 在 本會期 內 ， 藉 著人數 優勢 快速 通過 ， 好 趕緊 藉 著 打假 新聞 之名 ， 修理 那些 所有 批評 他們 的 言論 。 台灣 解除 戒嚴 、 開放 報禁 已屆 30 多年 了 ， 政黨 輪 替 也 都 兩 回合 了 ， 當下 早已 自由 開放 的 台灣 社會 ， 竟然 會 這 般的 脆弱 ， 這 般的 弱 不禁 風 ？ 幾則 假新聞 就 能擾 亂國安 了 ？ 急迫 程度 到 了 必須 立法 祭出 公權力 ， 否則 國家 就 會 滅亡 ？ 這是 怎麼 回事 ！ 更 令人 想不到 的 是 ， 當初 打 著言論 自由 起家 的 民進 黨 ， 嘗到 權力 的 滋味 後 竟然 如此 快速 就 背叛 創黨 先人 ！ 執政績 效不佳 ， 民調 聲望 低落 ， 蔡 政府 早就 想 藉由 打壓 媒體 來 轉移 焦點 。 去年初 就 有 執政黨 立委 提案 修 「 反滲 透法 」 、 《 通訊 傳播 基本法 》 ， 輿論 大事 撻 伐 後 ， 當時 閣 揆 林 全斷然 踩 煞車 。 1 年 之 後 ， 又 有人 另起 爐 灶 倡議 修 《 國家 安全法 》 ， 賴清德 一句 「 一定 盤點 法規 」 的 保證 ， 看來 行政院 這回 是 玩 真的 ！ 修法 也好 、 立法 也罷 ， 就是 鐵 了 心 ， 非得 祭出 公權力 大棒 ， 全力 打壓言論 自由 ！ 如果 事實 發展 真如 我們 所料 ， 蔡 英文 與 賴清德 決定 聯手 打 壓言論 自由 。 那麼 請容 我們 這樣 說 ， 這個 政黨 在 民主 發展史 上 ， 將會 有 一個 完全 不同 的 定論 與 評價 ， 歷史 恐怕 將會 這樣 記載 著 ： 這是 一個 曾經 反抗 威權 ， 為 台灣 打 開言論 自由 空間 的 政黨 ， 也 是 一個 重返 威權 ， 關閉 台灣 已經 享有 的 言論 自由 的 政黨 ！ 說句 痛心 的 話 ， 如果 民進 黨 真 如賴 清德 的 預測 ， 焦急 著 就 在 本會期 內 修法 或 立法 ， 取得 打壓言論 自由 的 執照 ， 真的 不 知道 未來 的 時 日 ， 這群 人 每年 還要 不要 舉辦 鄭南榕 的 紀念會 ？ 這位 曾經 在 台灣 倡議 「 百分之百 言論 自由 」 的 先驅 ， 如果 他 今天 仍然 在世 ， 會 怎麼 評價 他 的 這些 後 輩 ， 是 怎樣 推翻 他 所樹立 的 價值 以及 堅持 ？ 說 得 再 直白 一點 ， 這群 人 真的 有 顏面 拿 著 他們 打 壓言論 自由 的 成就 ， 去 告慰 鄭南榕 的 在 天之靈 嗎 ？ 民調 低落 、 治理 混亂 ， 面對 排山倒海 的 輿論 批評 ， 這本 就是 西方 民主 國家 的 常態 ， 也 是 執政必須 負起 政治 責任 的 常理 。 民進 黨 從 在野 起家 ， 不 就是 靠 著言論 自由 的 監督 制衡 ， 一路 邁向 執政之路 ？ 當初 為爭 取言論 自由 ， 付出 了 多少 代價 ？ 如今 自己 當了 家 ， 最該 積極 捍衛 這種 人權 的 政黨 ， 竟然 明目 張膽要 修法 奪取 人民 的 這種 權力 ！ 把 自己 執政不佳 的 緣 由 全推 到 「 假新聞 」 上面 ！ 還 直接 就 意圖 修法 打壓 ， 這個 政黨 究竟 怎麼 了 ？ 民進 黨 已 掌握 行政 、 立法 兩權 ， 本應 獨立 於 行政 權 之外 的 司法 權 ， 蔡總統 及民進 黨 藉 人事 任命 權已 享盡 「 實質 影響力 」 ， 更 不必 談中 選會 、 金管會 、 NCC 等 獨立 機關 早已 不獨立 ， 民進 黨 黨工 與 立委 助理 早已 進駐 關鍵 職位 ， 貫徹民 進黨 的 意志 ！ 如今 連批 評 的 言論 都 容不得 ， 想 讓 媒體 「 順 我者昌 、 逆我者亡 」 ， 更要 控制 言論 ， 讓 批評 意見 「 言 不 出戶 」 。 那麼 ， 真的 只能 說 ， 當一個 政黨 要 墮落 ， 一定 從 價值 的 墮 落先 開始 ； 當一個 政黨 要 衰亡 ， 一定 從靈魂 的 消亡 先開始 ！  0.497667133808136 926\n"
     ]
    }
   ],
   "source": [
    "#找到與特定文章strl相似的文章\n",
    "\n",
    "for count, sim in sims:\n",
    "    print(count,sim)\n",
    "    sentence = c[count]\n",
    "    words = ''\n",
    "    \n",
    "    for word in sentence[0]:\n",
    "        words = words + word +' '\n",
    "    print(words,sim,len(sentence[0]))"
   ]
  },
  {
   "cell_type": "code",
   "execution_count": 17,
   "metadata": {},
   "outputs": [
    {
     "name": "stdout",
     "output_type": "stream",
     "text": [
      "                                             content tag       title  \\\n",
      "0  民進 黨 的 主席 選戰 ， 儼 已成 為 「 保皇派 」 和 「 反 保皇派 」 之爭 。...   0       女皇的新衣   \n",
      "1  葉俊榮 在 宣布 教育部 將發台 大校 長 聘書給 管中 閔 之前 ， 據 說 曾 致電 立...   0  葉部長「勇敢」的代價   \n",
      "2  拗 了 又 拗 ， 教育部 長 葉俊榮終 於 宣布 將發台 大校 長 聘書給 管中 閔 ， ...   0    三百天才找回理性   \n",
      "3  蘇貞昌將 接閣 揆 已 經傳 了 一陣子 。 儘 管 其 幕僚 否認 此 說 ， 但 多位 ...   0    聽說蘇貞昌接閣揆   \n",
      "4  柯文 哲雙 城論壇 再 提 「 兩岸 一家 親 」 ， 又 吹 皺政壇 春水 。 對照 他 ...   0    柯文哲的如意算盤   \n",
      "\n",
      "                                             d2v_Vec  \n",
      "0  [-2.5054448, -0.98734796, -1.4825997, -1.54023...  \n",
      "1  [-1.6271399, -0.5152588, 0.76503277, -2.021135...  \n",
      "2  [-1.8977276, 0.8613036, -0.82015616, -0.718078...  \n",
      "3  [0.3384848, 2.0811343, -0.9328736, -1.9614244,...  \n",
      "4  [2.101391, -1.7982857, -3.108805, -4.4197197, ...  \n"
     ]
    }
   ],
   "source": [
    "df['d2v_Vec']='0'\n",
    "for i in range(0,17167):\n",
    "    strl=df.iloc[i,0]\n",
    "    test_text=strl.split(' ')\n",
    "    #得到向量array命名為inferred_vector\n",
    "    inferred_vector=model_dm.infer_vector(doc_words=test_text,alpha=0.025,steps=500)\n",
    "    \n",
    "    df.loc[i,'d2v_Vec']=list(inferred_vector)\n",
    "    \n",
    "print(df.head())    "
   ]
  },
  {
   "cell_type": "code",
   "execution_count": 34,
   "metadata": {},
   "outputs": [],
   "source": [
    "from sklearn.model_selection import train_test_split\n",
    "# axis = 1 drop行 axis = 0 drop列\n",
    "# (題目90%, 題目10%, 答案90%, 答案10%)\n",
    "df_train, df_test, tag_train, tag_test = train_test_split(df, \n",
    "                                   df[\"tag\"], test_size=0.1)"
   ]
  },
  {
   "cell_type": "code",
   "execution_count": 51,
   "metadata": {},
   "outputs": [
    {
     "data": {
      "text/html": [
       "<div>\n",
       "<style scoped>\n",
       "    .dataframe tbody tr th:only-of-type {\n",
       "        vertical-align: middle;\n",
       "    }\n",
       "\n",
       "    .dataframe tbody tr th {\n",
       "        vertical-align: top;\n",
       "    }\n",
       "\n",
       "    .dataframe thead th {\n",
       "        text-align: right;\n",
       "    }\n",
       "</style>\n",
       "<table border=\"1\" class=\"dataframe\">\n",
       "  <thead>\n",
       "    <tr style=\"text-align: right;\">\n",
       "      <th></th>\n",
       "      <th>content</th>\n",
       "      <th>tag</th>\n",
       "      <th>title</th>\n",
       "      <th>d2v_Vec</th>\n",
       "    </tr>\n",
       "  </thead>\n",
       "  <tbody>\n",
       "    <tr>\n",
       "      <th>14914</th>\n",
       "      <td>司法院 正副 院長 被 提名 人謝 文定 （ 左 ） 與 林錦芳 （ 右 ） 。 （ 資料 ...</td>\n",
       "      <td>1</td>\n",
       "      <td>莫以黨紀強壓民意</td>\n",
       "      <td>[-3.12171, -1.9723787, 1.1019472, -3.68106, -1...</td>\n",
       "    </tr>\n",
       "    <tr>\n",
       "      <th>5854</th>\n",
       "      <td>國內 生技股 最近 飆風 再起 ， 成交量 、 漲幅 之大稱 冠台 股 ， 在 弱勢 盤整 ...</td>\n",
       "      <td>1</td>\n",
       "      <td>《社論》期待生技產業成為台灣明日之星</td>\n",
       "      <td>[0.5948495, -0.7541138, 1.3457074, -1.5522251,...</td>\n",
       "    </tr>\n",
       "    <tr>\n",
       "      <th>13671</th>\n",
       "      <td>昨天 中國 外交部 正式 回應川普 ， 堅持 一個 中國 原則 是 發展 中美關 係 的 政...</td>\n",
       "      <td>1</td>\n",
       "      <td>告訴川普 一中本就騙很大</td>\n",
       "      <td>[0.7695631, 0.85509455, -2.098613, -0.88627493...</td>\n",
       "    </tr>\n",
       "    <tr>\n",
       "      <th>6524</th>\n",
       "      <td>大 年初 四 ， 蔡 英文 總統 試乘 機場 捷運 。 對 這條 苦 等 廿年 才 通車 的...</td>\n",
       "      <td>0</td>\n",
       "      <td>機捷：一堂廿年還上不完的課</td>\n",
       "      <td>[-1.7669977, 1.5318578, -0.38037598, 1.1446447...</td>\n",
       "    </tr>\n",
       "    <tr>\n",
       "      <th>3126</th>\n",
       "      <td>韓國瑜 以 驚人 聲勢 奪下 高雄市 長 寶座 ， 證 明人 心思 變 ， 「 拚經濟 」 ...</td>\n",
       "      <td>0</td>\n",
       "      <td>《社論》就看韓國瑜的第一箭了</td>\n",
       "      <td>[-0.84077424, 0.6891932, -1.1447272, 1.0899594...</td>\n",
       "    </tr>\n",
       "  </tbody>\n",
       "</table>\n",
       "</div>"
      ],
      "text/plain": [
       "                                                 content tag  \\\n",
       "14914  司法院 正副 院長 被 提名 人謝 文定 （ 左 ） 與 林錦芳 （ 右 ） 。 （ 資料 ...   1   \n",
       "5854   國內 生技股 最近 飆風 再起 ， 成交量 、 漲幅 之大稱 冠台 股 ， 在 弱勢 盤整 ...   1   \n",
       "13671  昨天 中國 外交部 正式 回應川普 ， 堅持 一個 中國 原則 是 發展 中美關 係 的 政...   1   \n",
       "6524   大 年初 四 ， 蔡 英文 總統 試乘 機場 捷運 。 對 這條 苦 等 廿年 才 通車 的...   0   \n",
       "3126   韓國瑜 以 驚人 聲勢 奪下 高雄市 長 寶座 ， 證 明人 心思 變 ， 「 拚經濟 」 ...   0   \n",
       "\n",
       "                    title                                            d2v_Vec  \n",
       "14914            莫以黨紀強壓民意  [-3.12171, -1.9723787, 1.1019472, -3.68106, -1...  \n",
       "5854   《社論》期待生技產業成為台灣明日之星  [0.5948495, -0.7541138, 1.3457074, -1.5522251,...  \n",
       "13671        告訴川普 一中本就騙很大  [0.7695631, 0.85509455, -2.098613, -0.88627493...  \n",
       "6524        機捷：一堂廿年還上不完的課  [-1.7669977, 1.5318578, -0.38037598, 1.1446447...  \n",
       "3126       《社論》就看韓國瑜的第一箭了  [-0.84077424, 0.6891932, -1.1447272, 1.0899594...  "
      ]
     },
     "execution_count": 51,
     "metadata": {},
     "output_type": "execute_result"
    }
   ],
   "source": [
    "df_train.head()"
   ]
  },
  {
   "cell_type": "code",
   "execution_count": 35,
   "metadata": {},
   "outputs": [],
   "source": [
    "#分類器\n",
    "from sklearn.neighbors import KNeighborsClassifier\n",
    "clf=KNeighborsClassifier(n_neighbors=8)\n",
    "clf=clf.fit(list(df_train['d2v_Vec']),tag_train)"
   ]
  },
  {
   "cell_type": "code",
   "execution_count": 52,
   "metadata": {},
   "outputs": [
    {
     "name": "stdout",
     "output_type": "stream",
     "text": [
      "正確率 : 68.20034944670937 %\n"
     ]
    }
   ],
   "source": [
    "#開始預測\n",
    "from sklearn.metrics import accuracy_score\n",
    "predict=clf.predict(list(df_test['d2v_Vec']))\n",
    "# print(\"預測 :\", predict)\n",
    "# print(\"正確標籤 :\", tag_test)\n",
    "print(\"正確率 :\",accuracy_score(tag_test,predict)*100,\"%\")"
   ]
  },
  {
   "cell_type": "code",
   "execution_count": 37,
   "metadata": {},
   "outputs": [
    {
     "data": {
      "text/html": [
       "<div>\n",
       "<style scoped>\n",
       "    .dataframe tbody tr th:only-of-type {\n",
       "        vertical-align: middle;\n",
       "    }\n",
       "\n",
       "    .dataframe tbody tr th {\n",
       "        vertical-align: top;\n",
       "    }\n",
       "\n",
       "    .dataframe thead th {\n",
       "        text-align: right;\n",
       "    }\n",
       "</style>\n",
       "<table border=\"1\" class=\"dataframe\">\n",
       "  <thead>\n",
       "    <tr style=\"text-align: right;\">\n",
       "      <th></th>\n",
       "      <th>0</th>\n",
       "      <th>1</th>\n",
       "    </tr>\n",
       "  </thead>\n",
       "  <tbody>\n",
       "    <tr>\n",
       "      <th>0</th>\n",
       "      <td>445</td>\n",
       "      <td>196</td>\n",
       "    </tr>\n",
       "    <tr>\n",
       "      <th>1</th>\n",
       "      <td>350</td>\n",
       "      <td>726</td>\n",
       "    </tr>\n",
       "  </tbody>\n",
       "</table>\n",
       "</div>"
      ],
      "text/plain": [
       "     0    1\n",
       "0  445  196\n",
       "1  350  726"
      ]
     },
     "execution_count": 37,
     "metadata": {},
     "output_type": "execute_result"
    }
   ],
   "source": [
    "#使用混淆矩陣，確認一下分類錯誤\n",
    "from sklearn.metrics import confusion_matrix\n",
    "cm=confusion_matrix(tag_test,predict)\n",
    "pd.DataFrame(cm)"
   ]
  },
  {
   "cell_type": "code",
   "execution_count": 46,
   "metadata": {},
   "outputs": [],
   "source": [
    "#隨便找一筆個資料來預測\n",
    "\n",
    "# #綠\n",
    "#strl='廿二位新任縣市首長週二宣誓就職，朝野版圖重新洗牌，國民黨掌握了十五個執政縣市，還有十九席的地方議會議長，重新回到二千年第一次政黨輪替以前的榮景，甚至更大更廣，人事任用權「隨我歡喜」，預算額度「大碗滿墘」，以國民黨人傳統的習性，這麼一桌桌滿漢全席吃下來，未來會不會體態臃腫、弊端叢生？恐怕會忙壞檢調囉！這一次地方大選，蔡英文徹底失敗了，敗的和馬英九執政時一樣的一塌糊塗，縱使原因有千百種，仍然看不到這個政府自我檢討，「討厭民進黨」成了台灣最大黨，必然還會延續一段時間。在此同時，選民並未同時「喜歡國民黨」，國民黨勝之不武，撿到天上掉下來的禮物，應該選輸的候選人卻已贏得大位。這也是標榜「超越藍綠」的柯文哲仍然屹立不搖的原因。除了「討厭民進黨」之外，這次選舉結果還有一個特色是，「國民黨的議會回來了！」幾十年來銀彈發揮威力的地方議會，竟然因為民眾討厭民進黨而起死回生。回鍋的回鍋，接棒的接棒，地方議會幾乎又回到李登輝被痛批「黑金政治」的時代。當議員要幹嘛？為民服務嘛！為民服務要銀兩，錢從哪裡來？還不是從預算掏出來，靠派系、靠議員抬轎的縣市長「準備」好了嗎？整碗、整桌都準備好了嗎？千萬別小看縣市長，他們有權准駁許多開發計畫，六都市長掌控的年度預算金額可都是天文數字，最多的台北市有一千七百億元，新北市有一千六百億元，台中市和高雄市也都有一千三百億元。其他縣長平均也有幾百億元的預算。為了配合「具有國民黨特色的議會」的民意，縣市政府要不要編預算配合議員？未來會不會蓋出更多的「蚊子館」及「馬奮館」？議會看緊人民荷包還是把荷包掏空？不免令人充滿想像。縣市長掌握的人事權也受矚目，宣稱「聖人難找」的高雄市長韓國瑜，一度原想任命的原民會主委吸金，海洋局長涉賄當選無效，他任命的教育局長曾被彈劾處分，盧秀燕的財政局長有家暴紀錄。這都只是上任前的檢驗，可見當縣市長稍有偏差，人事權的行使就會出現問題。國民黨激增地方版圖，中了政治樂透，儼然像個身懷鉅款、腰纏萬貫的闊佬，大家不妨懷著酸葡萄心理，等著看他們怎麼享用「大碗擱滿墘」的大餐'\n",
    "\n",
    "#藍\n",
    "#strl=\"國民黨發言人洪孟楷今早宣布投入2020立委選舉，參選第10屆新北市第一選區（淡水、林口、泰山、八里、三芝、石門）立委，將有機會對戰有「淡水蔡依林」之稱的現任綠委呂孫綾。洪孟楷表示，看到中央執政的弊病不斷，現在的執政黨無心想人民，只在意如何打擊政敵，對付國民黨；《勞動基準法》亂修、年金改革違反信賴原則、前瞻計畫是撒錢自肥、兩岸關係冷凍，他所熱愛的台灣與中華民國，還有多少個4年可以浪費呢？他將用要用年輕的熱忱，打一場正向陽光選戰，要用過去10年累積的專業，監督揭弊、爭取預算，不做負面攻擊、跳脫政黨鬥爭。兼任文傳會義務職副主委的洪孟楷今正式表態參選2020立委，他說，過去馬政府8年執政，當時他與國民黨並未有過多接觸，然在2016年國民黨在野後，當眾人選擇遠離，他毅然決然擔任黨職，並且為黨辯護，捍衛，可以說國民黨越弱時、更加不離不棄，因為相信民主政治需要良好的監督制衡，才能夠給民眾更好的生活。洪孟楷說，在政論節目中他只論理、不硬拗，因為相信「真理越辯越明」，但過去國民黨有不對的地方也絕不護短；在地方服務上，更是不分黨派、不分顏色，只要是對地方好的事物，孟楷勇於付出，樂於奉獻，這是他永遠的承諾。洪孟楷說，在這次九合一選舉中看到了「討厭民進黨」的勝利，但不見得是每個人都對於國民黨放心，因此，如果接下來的選舉，國民黨還是沒有任何改變，用一樣的面孔來面對選民，這樣怎麼能夠回應民眾對於政黨的期待呢？洪孟楷說，今年36歲的他，有完整的中央、地方政府歷練，曾是前台北縣副縣長蔡家福秘書，嘉義市政府文化局局長，也是行政院前院長江宜樺辦公室專門委員，他有信心能夠為公眾爭取權利，創造地方人人發大財\"\n",
    "strl='蔡總統連日展開「傾聽之旅」，為民進黨敗選聽取地方意見。從形式上看，這完全是一個定位錯亂的安排。原因是，蔡英文已失去黨主席職務，她以總統身分出訪，卻只造訪綠營失去政權的縣市，且只會見綠營首長，聽一方之詞。可見，她迄今對自己的國家元首角色仍毫無「超越藍綠」的自覺。一路上，蔡英文仍維持她一貫的「英式溝通法」。她要求黨員及支持者，給指教可以「更直接、更大聲」；但對於基層的質疑，她卻一再重複令人無感的官式辯解。更可笑的是，她還為「認真做事的人沒得到連任的機會」感到不平，公開質疑選民的抉擇。試問，這是哪門子反省？又是哪門子傾聽？兩年多前蔡英文就說過，民眾的聲音如果政府沒聽見，「可以拍桌」。事實上，人民喊得再大聲，有用嗎？當群眾在街頭怒吼，政府卻用層層拒馬把自己和人民隔開；當網路上民怨四處竄燒，政府卻視為「假消息」，要採取國安手段對付。兩年來，媒體上檢討及批評施政不當的文章連篇累牘，蔡總統和她的團隊若曾聽進一半，今天民進黨還會敗成這樣嗎？於是，這樣的「傾聽之旅」會有什麼效果呢？在台中，林佳龍稱自己是敗軍之將「只能聆聽」；在雲林，李進勇懺稱自己是「頭號戰犯」；在彰化，魏明谷則抱歉再抱歉。既然地方敗將都公開認錯了，蔡英文這趟傾聽之旅不論聽到什麼，她應該都頗感「療癒」吧！'"
   ]
  },
  {
   "cell_type": "code",
   "execution_count": 47,
   "metadata": {},
   "outputs": [],
   "source": [
    "#隨便找一筆個資料來預測\n",
    "strl=\" \".join(jieba.cut(strl))\n",
    "test_text=strl.split(' ')\n",
    "inferred_vector=model_dm.infer_vector(doc_words=test_text,alpha=0.025,steps=500)\n",
    "ddf = pd.DataFrame(columns=['tag', 'd2v_Vec'])\n",
    "ddf.loc[0,'d2v_Vec']=list(inferred_vector)"
   ]
  },
  {
   "cell_type": "code",
   "execution_count": 48,
   "metadata": {},
   "outputs": [
    {
     "name": "stdout",
     "output_type": "stream",
     "text": [
      "預測 : ['0']\n"
     ]
    }
   ],
   "source": [
    "predict=clf.predict(list(ddf['d2v_Vec']))\n",
    "print(\"預測 :\", predict)"
   ]
  },
  {
   "cell_type": "code",
   "execution_count": null,
   "metadata": {},
   "outputs": [],
   "source": []
  }
 ],
 "metadata": {
  "kernelspec": {
   "display_name": "Python 3",
   "language": "python",
   "name": "python3"
  },
  "language_info": {
   "codemirror_mode": {
    "name": "ipython",
    "version": 3
   },
   "file_extension": ".py",
   "mimetype": "text/x-python",
   "name": "python",
   "nbconvert_exporter": "python",
   "pygments_lexer": "ipython3",
   "version": "3.6.0"
  }
 },
 "nbformat": 4,
 "nbformat_minor": 2
}
