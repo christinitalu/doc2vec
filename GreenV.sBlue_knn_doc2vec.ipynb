{
 "cells": [
  {
   "cell_type": "markdown",
   "metadata": {},
   "source": [
    "資料3737筆"
   ]
  },
  {
   "cell_type": "code",
   "execution_count": 1,
   "metadata": {},
   "outputs": [
    {
     "name": "stderr",
     "output_type": "stream",
     "text": [
      "C:\\Users\\Big data\\AppData\\Local\\Programs\\Python\\Python36\\lib\\site-packages\\gensim\\utils.py:1212: UserWarning: detected Windows; aliasing chunkize to chunkize_serial\n",
      "  warnings.warn(\"detected Windows; aliasing chunkize to chunkize_serial\")\n"
     ]
    }
   ],
   "source": [
    "import pandas as pd\n",
    "import json\n",
    "import sys\n",
    "import os\n",
    "import gensim\n",
    "import numpy as np\n",
    "import glob\n",
    "from gensim.models.doc2vec import Doc2Vec"
   ]
  },
  {
   "cell_type": "code",
   "execution_count": 2,
   "metadata": {
    "scrolled": true
   },
   "outputs": [],
   "source": [
    "#load json檔案成dataframe,看一下內容\n",
    "with open('E:/news_project/bgLabel/angle/opinion_printed_all_v2.json', 'r',encoding='UTF-8') as f:\n",
    "    data = json.load(f)\n",
    "    df1 = pd.DataFrame.from_dict(data, orient='columns')\n",
    "\n",
    "df1 = df1.drop([\"author\"], axis=1)\n",
    "df1 = df1.drop([\"head\"], axis=1)\n",
    "df1 = df1.drop([\"date_\"], axis=1)\n",
    "df1 = df1.drop([\"type\"], axis=1)\n",
    "df1 = df1.drop([\"source\"], axis=1)"
   ]
  },
  {
   "cell_type": "code",
   "execution_count": 3,
   "metadata": {},
   "outputs": [],
   "source": [
    "#丟掉不要的欄位，合併成一個datafram\n",
    "df_all = pd.DataFrame(columns=['content','tag', 'title'])\n",
    "for files in glob.glob('E:/news_project/bgLabel/old/*'):\n",
    "    with open(files,\"r\", encoding=\"utf-8\") as json_data:\n",
    "        data = json.load(json_data)\n",
    "        df = pd.DataFrame.from_dict(data, orient='columns')\n",
    "    \n",
    "        df = df.drop([\"infor\"], axis=1)\n",
    "        df = df.drop([\"date_\"], axis=1)\n",
    "        df = df.drop([\"type\"], axis=1)\n",
    "        df = df.drop([\"source\"], axis=1)\n",
    "\n",
    "        df_all=pd.concat([df_all,df],axis=0,ignore_index=True )\n",
    "# df_all=pd.concat([df_all,df1],axis=0,ignore_index=True )\n"
   ]
  },
  {
   "cell_type": "code",
   "execution_count": 122,
   "metadata": {},
   "outputs": [
    {
     "name": "stdout",
     "output_type": "stream",
     "text": [
      "Index(['content', 'tag', 'title', 'd2v_Vec'], dtype='object')\n"
     ]
    },
    {
     "data": {
      "text/html": [
       "<div>\n",
       "<style scoped>\n",
       "    .dataframe tbody tr th:only-of-type {\n",
       "        vertical-align: middle;\n",
       "    }\n",
       "\n",
       "    .dataframe tbody tr th {\n",
       "        vertical-align: top;\n",
       "    }\n",
       "\n",
       "    .dataframe thead th {\n",
       "        text-align: right;\n",
       "    }\n",
       "</style>\n",
       "<table border=\"1\" class=\"dataframe\">\n",
       "  <thead>\n",
       "    <tr style=\"text-align: right;\">\n",
       "      <th></th>\n",
       "      <th>content</th>\n",
       "      <th>tag</th>\n",
       "      <th>title</th>\n",
       "      <th>d2v_Vec</th>\n",
       "    </tr>\n",
       "  </thead>\n",
       "  <tbody>\n",
       "    <tr>\n",
       "      <th>0</th>\n",
       "      <td>民進 黨 的 主席 選戰 ， 儼 已成 為 「 保皇派 」 和 「 反 保皇派 」 之爭 。...</td>\n",
       "      <td>0</td>\n",
       "      <td>女皇的新衣</td>\n",
       "      <td>[-1.206782, -1.3442309, -5.4025793, -1.1229587...</td>\n",
       "    </tr>\n",
       "    <tr>\n",
       "      <th>1</th>\n",
       "      <td>葉俊榮 在 宣布 教育部 將發台 大校 長 聘書給 管中 閔 之前 ， 據 說 曾 致電 立...</td>\n",
       "      <td>0</td>\n",
       "      <td>葉部長「勇敢」的代價</td>\n",
       "      <td>[-0.4745511, -5.0516253, -3.6623557, 0.4304008...</td>\n",
       "    </tr>\n",
       "    <tr>\n",
       "      <th>2</th>\n",
       "      <td>拗 了 又 拗 ， 教育部 長 葉俊榮終 於 宣布 將發台 大校 長 聘書給 管中 閔 ， ...</td>\n",
       "      <td>0</td>\n",
       "      <td>三百天才找回理性</td>\n",
       "      <td>[-3.8533144, -3.2074935, -0.8450376, 0.3748564...</td>\n",
       "    </tr>\n",
       "    <tr>\n",
       "      <th>3</th>\n",
       "      <td>蘇貞昌將 接閣 揆 已 經傳 了 一陣子 。 儘 管 其 幕僚 否認 此 說 ， 但 多位 ...</td>\n",
       "      <td>0</td>\n",
       "      <td>聽說蘇貞昌接閣揆</td>\n",
       "      <td>[-2.204379, -1.9464985, -1.8394303, 2.3343253,...</td>\n",
       "    </tr>\n",
       "    <tr>\n",
       "      <th>4</th>\n",
       "      <td>柯文 哲雙 城論壇 再 提 「 兩岸 一家 親 」 ， 又 吹 皺政壇 春水 。 對照 他 ...</td>\n",
       "      <td>0</td>\n",
       "      <td>柯文哲的如意算盤</td>\n",
       "      <td>[-1.9381931, 1.8546289, -2.243623, 0.55695444,...</td>\n",
       "    </tr>\n",
       "  </tbody>\n",
       "</table>\n",
       "</div>"
      ],
      "text/plain": [
       "                                             content tag       title  \\\n",
       "0  民進 黨 的 主席 選戰 ， 儼 已成 為 「 保皇派 」 和 「 反 保皇派 」 之爭 。...   0       女皇的新衣   \n",
       "1  葉俊榮 在 宣布 教育部 將發台 大校 長 聘書給 管中 閔 之前 ， 據 說 曾 致電 立...   0  葉部長「勇敢」的代價   \n",
       "2  拗 了 又 拗 ， 教育部 長 葉俊榮終 於 宣布 將發台 大校 長 聘書給 管中 閔 ， ...   0    三百天才找回理性   \n",
       "3  蘇貞昌將 接閣 揆 已 經傳 了 一陣子 。 儘 管 其 幕僚 否認 此 說 ， 但 多位 ...   0    聽說蘇貞昌接閣揆   \n",
       "4  柯文 哲雙 城論壇 再 提 「 兩岸 一家 親 」 ， 又 吹 皺政壇 春水 。 對照 他 ...   0    柯文哲的如意算盤   \n",
       "\n",
       "                                             d2v_Vec  \n",
       "0  [-1.206782, -1.3442309, -5.4025793, -1.1229587...  \n",
       "1  [-0.4745511, -5.0516253, -3.6623557, 0.4304008...  \n",
       "2  [-3.8533144, -3.2074935, -0.8450376, 0.3748564...  \n",
       "3  [-2.204379, -1.9464985, -1.8394303, 2.3343253,...  \n",
       "4  [-1.9381931, 1.8546289, -2.243623, 0.55695444,...  "
      ]
     },
     "execution_count": 122,
     "metadata": {},
     "output_type": "execute_result"
    }
   ],
   "source": [
    "print(df_all.columns)\n",
    "df=df_all\n",
    "df.head()"
   ]
  },
  {
   "cell_type": "code",
   "execution_count": 5,
   "metadata": {},
   "outputs": [],
   "source": [
    "def split_news(news):\n",
    "    return \" \".join(jieba.cut(news))\n",
    "\n",
    "def process_news(df):\n",
    "    df['content'] = df ['content'].apply(split_news)\n",
    "    df['title'] = df['title'].str.replace('\\r','')\n",
    "    df['title'] = df['title'].str.replace('\\n','')\n",
    "    return df"
   ]
  },
  {
   "cell_type": "code",
   "execution_count": 6,
   "metadata": {},
   "outputs": [
    {
     "name": "stderr",
     "output_type": "stream",
     "text": [
      "Building prefix dict from the default dictionary ...\n",
      "Loading model from cache C:\\Users\\BIGDAT~1\\AppData\\Local\\Temp\\jieba.cache\n",
      "Loading model cost 0.819 seconds.\n",
      "Prefix dict has been built succesfully.\n"
     ]
    }
   ],
   "source": [
    "import jieba\n",
    "df = process_news(df)"
   ]
  },
  {
   "cell_type": "code",
   "execution_count": 7,
   "metadata": {},
   "outputs": [],
   "source": [
    "#取出content列為一個list\n",
    "b=list(df['content'])"
   ]
  },
  {
   "cell_type": "code",
   "execution_count": 8,
   "metadata": {},
   "outputs": [],
   "source": [
    "TaggededDocument=gensim.models.doc2vec.TaggedDocument"
   ]
  },
  {
   "cell_type": "code",
   "execution_count": 9,
   "metadata": {},
   "outputs": [],
   "source": [
    "x_train=[]\n",
    "for i, text in enumerate(b):\n",
    "    word_list = text.split(' ')\n",
    "    l = len(word_list)\n",
    "    word_list[l-1]=word_list[l-1].strip()\n",
    "    document=TaggededDocument(word_list,tags=[i])\n",
    "    x_train.append(document)\n",
    "#print(x_train)\n",
    "c = x_train"
   ]
  },
  {
   "cell_type": "code",
   "execution_count": 10,
   "metadata": {},
   "outputs": [],
   "source": [
    "model=Doc2Vec(x_train, min_count=1, window=3, vector_size=100, negative=5,workers=4)\n",
    "model.train(x_train,total_examples=model.corpus_count,epochs=10)"
   ]
  },
  {
   "cell_type": "code",
   "execution_count": 11,
   "metadata": {},
   "outputs": [],
   "source": [
    "model_dm=model"
   ]
  },
  {
   "cell_type": "code",
   "execution_count": 113,
   "metadata": {},
   "outputs": [],
   "source": [
    "#保存doc2vec模型\n",
    "import pickle \n",
    "with open('ModelSave/doc2vec_Label_P.pickle','wb')as f:\n",
    "    pickle.dump(model_dm,f)"
   ]
  },
  {
   "cell_type": "code",
   "execution_count": 123,
   "metadata": {},
   "outputs": [
    {
     "name": "stderr",
     "output_type": "stream",
     "text": [
      "C:\\Users\\Big data\\AppData\\Local\\Programs\\Python\\Python36\\lib\\site-packages\\gensim\\matutils.py:737: FutureWarning: Conversion of the second argument of issubdtype from `int` to `np.signedinteger` is deprecated. In future, it will be treated as `np.int32 == np.dtype(int).type`.\n",
      "  if np.issubdtype(vec.dtype, np.int):\n"
     ]
    },
    {
     "data": {
      "text/plain": [
       "[(78, 0.7087225914001465),\n",
       " (3293, 0.47007647156715393),\n",
       " (3275, 0.4531461298465729)]"
      ]
     },
     "execution_count": 123,
     "metadata": {},
     "output_type": "execute_result"
    }
   ],
   "source": [
    "strl=df.iloc[78,0]\n",
    "test_text=strl.split(' ')\n",
    "#得到向量array命名為inferred_vector\n",
    "inferred_vector=model_dm.infer_vector(doc_words=test_text,alpha=0.025,steps=500)\n",
    "\n",
    "sims=model_dm.docvecs.most_similar([inferred_vector],topn=3)\n",
    "sims"
   ]
  },
  {
   "cell_type": "code",
   "execution_count": 124,
   "metadata": {},
   "outputs": [
    {
     "name": "stdout",
     "output_type": "stream",
     "text": [
      "78 0.7087225914001465\n",
      "新任 調查 局長 呂文忠 上任 ， 一席 將 全力 調查 危害 國家 安全 假新聞 的 談話 ， 讓 人民 感到 一陣 寒風 。 將國安 如此 無限 上綱 ， 怎 不 令人 憂心 調查局 走向 效忠 政黨 ， 而 非 效忠 國家 的 回頭路 ？ 調查 局源 於 國民 政府 時期 的 「 軍統 」 與 國民黨 「 中統 」 ， 政府 遷台 後 負責 保防 偵查 ， 在 戒 嚴時期 成為 政治 打手 而 惡名 昭彰 。 姑不論 其 時代 背景 ， 這一頁 「 東廠 」 局史絕 不 光彩 ， 也 逼使 調查 局展 開漫長 的 「 國家化 」 歷程 ， 致力 肅貪 、 掃毒 、 查賄 等 ， 才 重拾 人民 信賴 。 如今 調查局 官網 明白 揭示 兩個 維護國安 工作 重點 ： 對受 中共 派遣 或 運用 ， 在 台灣 從 事 涉密 情 蒐 、 發展 組織 或 進行 破壞 的 個 人 或 組織 ， 以及 境內 外籍人士 或團體 蒐集 政經 、 國防 、 高科技 機密 資料 等 行為 ， 進行 監控 與 偵處 。 規範 如此 詳細 ， 實著眼 於 公權力 何其 強大 ， 自須 有 具體 違 法事 證作 為 調查 前提 ， 不容 單憑 「 國家 安全 」 的 不 確定 法律 概念 入人 於 罪 ； 並且 ， 所謂 危害 國安假 新聞 一旦 成為執 政者 遮掩 失政 的 卸責話術 ， 對國家 危害 實遠 甚假 新聞 。 二 ○ 一二 總統 大選前 ， 不過 是 一則 國安會疑 透過 調查局 對 蔡 英文 陣營 監控 的 傳聞 報導 ， 即 引發 其 強烈 批判 ； 如今 掌權後竟 想 假調 查局 之手 、 藉 國安之名 開啟 更廣 更深 的 干 預言論 自由 之門 ， 蔡 政府 心態 確實 可議 。 「 我們 是 國家 的 調查員 … 」 ， 展抱 山莊 激昂 的 「 調查員 進行曲 」 依舊 繞梁 ， 但展 抱 人 可 真 甘心 淪為 政治 打手 ， 讓 「 老牌 東廠 復 活 」 的 烏雲罩 頂 ？  0.7087225914001465 316\n",
      "3293 0.47007647156715393\n",
      "蔡 英文 總統 最近 的 一些 作法 ， 讓 人 感到 矛盾 。 她 一面 向 原住民 大談 和解 ， 一面 卻 在 社會 上 搞 鬥爭 和 分裂 ； 一面 高唱 轉型 正義 ， 另一方面 又 忙 著 製 造 白色恐怖 氣氛 ， 把 若干 退休 將領 打成 「 賣國賊 」 。 更 讓 人錯 愕 的 是 ， 她 指示 調查局 制訂 《 保防工作 法 》 ， 一舉 將台灣 推回 「 保密 防諜 」 的 時代 ， 不知 她 意欲 何為 ？ 根據 最近 出爐 的 《 保防工作 法 》 草案 ， 規定 公務 機關 與 國家 安全 相關 企業須 設 「 保防 處室 」 ， 保防 人員 只 需 獲得 單位 主官 書面 同意 ， 即可 對 「 嫌疑人 」 行使 調查 、 調閱 、 臨檢及 查扣 。 當事 人 若 拒絕 調查 ， 最高 可處 以 一百 萬元罰 鍰 ； 若洩 密給 中國大陸 ， 至少 判刑 七年 。 這些 規範 ， 都 讓 人 看到 台灣 民主 倒退 的 魅影 。 對此 法案 ， 法界 和 政界 反彈 最烈 ， 批評 由 調查局 派出 保防 員進 駐 各 單位 ， 儼然 是 昔日 「 人二 」 復 活 。 可議 之處 有 幾 ： 其一 ， 這種 限制 人民 自由 的 法令 ， 為何 隨便 交給 調查局 制訂 ， 並由 它 執行 ？ 其二 ， 台灣 民主 的 發展 ， 好不容易 讓 「 人二 」 退位 ， 現在 蔡 英文 竟要 將它 重新 召回 ， 並要 擴大到 民間 企業 ， 這豈非 大開 民主 倒車 ？ 其三 ， 兩岸關 係 倒退 ， 是 因為 蔡總統 拒絕 承認 九二 共識 而發 ； 政府 不 修正 自己 的 作為 ， 卻 反而 要將 惡果 轉嫁給 人民 承受 ， 這 不是 專制 統治是 什麼 ？ 更 重要 的 一點 是 ， 我國 早已 制訂 《 國家 安全法 》 ， 扁 政府 時代 又 制定 了 《 國家 機密 保護法 》 ， 任何 國民出 賣國家 機秘 或 違反國家 利益 ， 現行 法制 皆 足以 規範 ， 有 另訂 新法 的 必要 嗎 ？ 這 真是 為 了 國家 安全 ， 還是 為 了 方便 政府 把手 伸得 更深 ？ 至於 調查局 宣稱 訂定 此法 是 為 了 「 強調 人權 保障 和 監督 」 ， 這種 鬼扯 ， 誰 會 相信 ？ 兩岸關 係 忽敵 忽友 ， 我方 要 如何 防制 機密 遭到 刺探 ， 當然 是 一大 挑戰 。 馬 政府 八年 間 ， 共破 獲 五十五 起共諜案 ， 或 只是 冰山一角 ； 即使 是 陳 水扁 任內 ， 隨其 由北 市府 進入 總統府 的 專委 王仁炳 ， 也 在 政黨 輪 替 後 被 查獲 販售業務機 密給 中國大陸 。 這顯示 ， 擔任 共諜 絕非 藍營 「 專利 」 ， 但 只要 相關 部門 盡心 負責 ， 在 現行 法制 內並 非無法 追查 。 若 只是 為 了 遂行 政治 目的 ， 將 「 保防 」 當成 鬥爭 的 工具 ， 則極 其 可鄙 ； 這與民 進黨 當年 指責 之 「 威權 統治 」 ， 有何 兩樣 ？ 檢視 《 保防 法 》 草案 ， 最受 訾議 之處 是 提供 保防 人員 過度 授權 ， 嚴重 違反 「 法官 保留 」 原則 。 事實 上 ， 民國 九十年 《 刑事 訴訟法 》 修訂 後 ， 連檢察官 都 無 權 逕 自 發 動 搜索 ； 而今 ， 保防 人員 卻 只 需 主管 同意 ， 便 可 發動 調查 、 調閱 、 臨檢及 查扣 。 這點 ， 堪稱 繼黨 產會 之 後 ， 行政 權 再度 凌駕 司法 權的 惡例 。 如此 赤裸裸 的 擴權 ， 讓 人 對 蔡 政府 的 人 權觀 感到 駭然 。 目前 我國 反情 報 工作 最需 補強 之處 ， 在 對 保防 作業 之 可 為 與 不可 為 建立 明確 規範 ， 以便 各方 有所 遵循 。 前陸委會 主委 王郁琦 指控 副手 張顯耀 「 洩密 」 ， 最 後 台北 地檢署 卻 不 起訴 ， 可見 目前 「 保密 核管 」 作業 對 於 機密 的 定義與 核定 存在 漏洞 ， 才 會導致 各 說 各話 。 另外 應該 改進 的 ， 則是 法律 條文 與 法 曹作風 如何 「 對準 」 的 問題 ， 不要 隨便 「 輕輕 放下 」 。 例如 ， 近年 落網 最大 的 共諜 鎮小江 ， 渡海 來台 建立 多個諜 報網 ， 最後只 判 四年 ， 他 面露 笑容 走出 法庭 。 再 如 ， 退役 中將 柯政盛 身為 前海 軍 副司令 ， 不僅 自身 洩密 ， 還 利用 人脈 協助共諜 發展 組織 ， 也 僅判 一年 兩個 月 。 這類 問題 若 不 改善 ， 卻 一味 利用 行政 權對 機關 和 企業 加強 控制 ， 除了 徒 惹 反感 ， 效用 何在 ？ 因應 中共 或 其他 境外 勢力 的 諜報 攻勢 ， 政府 在 保防 作為 上 確有 通盤 檢討 的 必要 。 但 如果 不加強 反情 報體系 的 法制 監管 ， 卻 縱容 行政 調查 任意 擴權 ， 甚至 當成 打壓 政治 異己 的 工具 ， 結果 將適 得 其 反 。 以 捍衛國家 安全 為名 、 對人權 進行 侵害 的 故事 ， 人們 還沒 看夠 嗎 ？  0.47007647156715393 825\n",
      "3275 0.4531461298465729\n",
      "在 《 保防 法 》 引發 軒然 大波 後 ， 一群 「 英派 」 立委 仍 不屈 不撓 要求 法務部 提出 《 反滲 透法 》 代替 ， 以確 保國家 安全 。 其中 ， 綠委陳 明文 並主張 ， 反滲 透法應 該將 「 假新聞 」 納入 規範 ， 以免 社會 恐慌 並影響 政府 施政 。 從 這個 發展 看 ， 蔡總統 對 於 國安 和 保防 的 焦慮 似 已 難以 遏抑 ， 未來 無論 這個 法案 叫 什麼 名稱 ， 政府 想要 加強 控制 的 企圖 已 一覽 無 遺 。 《 保防 法 》 草案 的 提出 ， 是 蔡 英文 總統 任命 蔡清祥 出任 調查 局長 時 的 授命 ； 而 《 反滲 透法 》 立法 的 提議 ， 則是 「 英派 」 立委 發起 的 政治 補強 。 兩者 之間 的 脈絡 ， 一則 顯示 了執 政者 的 保防 焦慮 ， 二則 反映 了 蔡 政府 的 社會 控制 欲望 。 至於 這其間 是 保防 焦慮 較 大 ， 或 社會 控制 欲望 更強 ， 或者 只是 藉 著 保防 為 由 來 掩飾 控制 的 欲望 ， 則 有待 進 一步 觀察 。 為 什麼 是 由 「 英派 」 立委 提議 以 《 反滲 透法 》 取代 《 保防 法 》 ？ 其間 曲折 ， 耐人 尋味 。 第一 ， 「 英派 」 立委 支持 蔡 英文 加強國 安保 防 ， 除立論 可待 商榷 ， 倒 也 可 理解 。 但 在 保防 法引發 「 人二 復 辟 」 爭議 後 ， 黨內 其他 派系 都 對 此持 保留 態度 ， 連黨團 總召 柯建銘 對 《 反滲 透法 》 都 刻意 保持 距離 ， 聲稱 黨團 沒有 討論過 ； 卻 只 見 英派 立委 攘臂 爭先 ， 不免 令人 側目 。 第二 ， 此舉 也 引發民 進黨 「 英派 」 與 「 新系 」 內鬥 之 說 。 原因 是 ， 調查 局草擬 的 《 保防 法 》 草案 跳過 法務部 直送 行政院 ， 遭到 否決 ， 英派 人馬 認為 法務部護航 不力 。 現在 英派 要求 法務部 研擬 《 反滲 透法 》 ， 被 新系 認為 是 衝著 新系 法務部長 邱太三而來 ， 要 他 為 蔡 政府 擋子彈 ； 於 是 ， 兩派 人馬 私下 放話 不斷 。 第三 ， 保防 反滲 透 的 立法 問題 ， 也 涉及 民進 黨 不同 派系 對 民主自由 及人權 限制 的 理念 差距 。 對 曾 歷經 威權 年代 抗爭 的 民進 黨 人 而言 ， 國 安保 防 固然 重要 ， 但 若 要 對 國民 的 言論 或 人身自由 權強加 限制 ， 仍得 審 慎行 事 。 然而 ， 「 英派 」 立委 不知 是 因護主 心切 ， 或 對 民主自由 的 認識 不足 ， 動輒 提出 極 不妥 當的 威權 論調 ， 讓 人 難以 苟同 。 包括 陳 明文 要求 管制 「 假新聞 」 ， 說 得 咬牙 切齒 ， 卻 又 提不出 合理 手段 ， 甚至 罔 顧言論 自由 精神 ， 難怪 其他 立委 避 之 唯恐 不及 。 事實 上 ， 無論 是 《 保防 法 》 或 《 反滲 透法 》 ， 其 目的 就是 要 防止 國家 機密 遭竊 ， 避免 敵人 的 滲透 ， 而主張 嚴加 管制 。 綠委莊瑞雄 引述 國 安部 門的 統計 說 ， 約 有 五千名 共諜 潛伏 在 台灣 ， 尤其 行政部 門 保防 較弱 ， 極 可能 受到 滲透 ， 因此 必須 加強 管理 。 表面 上 看 ， 此一 說法 言之成理 ； 但事 實上 ， 難道 不 另 立新 法 ， 台灣現 在 的 國家 法制 即 不足以 對 付共諜 ？ 答案 顯非 如此 。 檢視 台灣現 有 相關 法令 ， 《 國家 安全法 》 明令 人民 不得 向大陸 或 外國 交遞 任何 機密 ， 並有 「 施行 細則 」 詳加 規範 。 日前 陸生 共諜案 的 周泓旭 即 是 依 此法 遭 收押 ， 去年 最大 共諜 案鎮 小江 也 是 根據 此法 判刑 。 為 防公務 人員 洩密 ， 則有 《 國家 機密 保護法 》 詳列 國家 機密 之 收發 、 分級 、 保管 、 複 製 之 規 定 ； 其中 第五 條還 規定 ， 機密 之 核定 「 應 於 必要 之 最小 範圍 內 為 之 」 ， 目的 就 在 防止 無限 上綱 。 此外 ， 我們 還有 《 國家 情報 工作 法 》 ， 旨在 規範 、 監督及 統合國家 的 情報 工作 ， 其中 亦 有 「 反制 間諜 」 的 規定 。 何況 ， 對 於 不忠 於 國家 而 出賣 機密 的 民眾 ， 《 刑法 》 第二章 的 「 外患罪 」 至少 羅 列 了 十種 以上 不同 程度 的 罪名 。 這些 ， 難道 都 還不夠 蔡 政府 使用 ？ 簡言 之 ， 如果 覺得 五千 共諜 潛伏 威脅 太大 ， 請 政府 依法逮捕 。 若覺 得 法律 仍 有 不足 ， 我們 建議 政府 就 既有 法令 修改 補強 ， 而 不是 另訂 新法 去 管制 人民 。 何況 ， 檢視 上述 法令 歷年 修改 的 痕跡 ， 都 是 不斷 走向 追求 人權 及 自由 的 保障 ， 並減 少 政府 的 侵權 擴權 。 如今 ， 英派 立委 想要 反其道 而行 ， 大步 退回 從前 ， 這萬萬 不可 ！  0.4531461298465729 839\n"
     ]
    }
   ],
   "source": [
    "#找到與特定文章strl相似的文章\n",
    "\n",
    "for count, sim in sims:\n",
    "    print(count,sim)\n",
    "    sentence = c[count]\n",
    "    words = ''\n",
    "    \n",
    "    for word in sentence[0]:\n",
    "        words = words + word +' '\n",
    "    print(words,sim,len(sentence[0]))"
   ]
  },
  {
   "cell_type": "code",
   "execution_count": 14,
   "metadata": {
    "collapsed": true
   },
   "outputs": [
    {
     "name": "stdout",
     "output_type": "stream",
     "text": [
      "                                             content tag       title  \\\n",
      "0  民進 黨 的 主席 選戰 ， 儼 已成 為 「 保皇派 」 和 「 反 保皇派 」 之爭 。...   0       女皇的新衣   \n",
      "1  葉俊榮 在 宣布 教育部 將發台 大校 長 聘書給 管中 閔 之前 ， 據 說 曾 致電 立...   0  葉部長「勇敢」的代價   \n",
      "2  拗 了 又 拗 ， 教育部 長 葉俊榮終 於 宣布 將發台 大校 長 聘書給 管中 閔 ， ...   0    三百天才找回理性   \n",
      "3  蘇貞昌將 接閣 揆 已 經傳 了 一陣子 。 儘 管 其 幕僚 否認 此 說 ， 但 多位 ...   0    聽說蘇貞昌接閣揆   \n",
      "4  柯文 哲雙 城論壇 再 提 「 兩岸 一家 親 」 ， 又 吹 皺政壇 春水 。 對照 他 ...   0    柯文哲的如意算盤   \n",
      "\n",
      "                                             d2v_Vec  \n",
      "0  [-1.206782, -1.3442309, -5.4025793, -1.1229587...  \n",
      "1  [-0.4745511, -5.0516253, -3.6623557, 0.4304008...  \n",
      "2  [-3.8533144, -3.2074935, -0.8450376, 0.3748564...  \n",
      "3  [-2.204379, -1.9464985, -1.8394303, 2.3343253,...  \n",
      "4  [-1.9381931, 1.8546289, -2.243623, 0.55695444,...  \n"
     ]
    }
   ],
   "source": [
    "df['d2v_Vec']='0'\n",
    "#infered_vectors_list = []\n",
    "for i in range(0,3738):\n",
    "    strl=df.iloc[i,0]\n",
    "    test_text=strl.split(' ')\n",
    "    #得到向量array命名為inferred_vector\n",
    "    inferred_vector=model_dm.infer_vector(doc_words=test_text,alpha=0.025,steps=500)\n",
    "    df.loc[i,'d2v_Vec']=list(inferred_vector)\n",
    "    #infered_vectors_list.append(inferred_vector)\n",
    "print(df.head())    "
   ]
  },
  {
   "cell_type": "code",
   "execution_count": 15,
   "metadata": {},
   "outputs": [],
   "source": [
    "dfn = df.drop([\"content\"], axis=1)\n",
    "dfn = dfn.drop([\"title\"], axis=1)"
   ]
  },
  {
   "cell_type": "code",
   "execution_count": 57,
   "metadata": {},
   "outputs": [],
   "source": [
    "#dfn['d2v_Vec']"
   ]
  },
  {
   "cell_type": "code",
   "execution_count": 58,
   "metadata": {},
   "outputs": [],
   "source": [
    "#dfn.to_csv(\"doc2vec.csv\", encoding=\"utf-8\", index=False)\n"
   ]
  },
  {
   "cell_type": "code",
   "execution_count": 39,
   "metadata": {},
   "outputs": [],
   "source": [
    "from sklearn.model_selection import train_test_split\n",
    "# axis = 1 drop行 axis = 0 drop列\n",
    "# (題目90%, 題目10%, 答案90%, 答案10%)\n",
    "dfn_train, dfn_test, tag_train, tag_test = train_test_split(dfn, \n",
    "                                   dfn[\"tag\"], test_size=0.1)"
   ]
  },
  {
   "cell_type": "code",
   "execution_count": 40,
   "metadata": {},
   "outputs": [],
   "source": [
    "#分類器\n",
    "from sklearn.neighbors import KNeighborsClassifier\n",
    "clf=KNeighborsClassifier(n_neighbors=8)\n",
    "clf=clf.fit(list(dfn_train['d2v_Vec']),tag_train)\n"
   ]
  },
  {
   "cell_type": "code",
   "execution_count": 125,
   "metadata": {},
   "outputs": [
    {
     "name": "stdout",
     "output_type": "stream",
     "text": [
      "正確率 : 73.52941176470588 %\n"
     ]
    }
   ],
   "source": [
    "#開始預測\n",
    "from sklearn.metrics import accuracy_score\n",
    "predict=clf.predict(list(dfn_test['d2v_Vec']))\n",
    "#print(\"預測 :\", predict)\n",
    "#print(\"正確標籤 :\", tag_test)\n",
    "print(\"正確率 :\",accuracy_score(tag_test,predict)*100,\"%\")"
   ]
  },
  {
   "cell_type": "code",
   "execution_count": 42,
   "metadata": {},
   "outputs": [
    {
     "data": {
      "text/html": [
       "<div>\n",
       "<style scoped>\n",
       "    .dataframe tbody tr th:only-of-type {\n",
       "        vertical-align: middle;\n",
       "    }\n",
       "\n",
       "    .dataframe tbody tr th {\n",
       "        vertical-align: top;\n",
       "    }\n",
       "\n",
       "    .dataframe thead th {\n",
       "        text-align: right;\n",
       "    }\n",
       "</style>\n",
       "<table border=\"1\" class=\"dataframe\">\n",
       "  <thead>\n",
       "    <tr style=\"text-align: right;\">\n",
       "      <th></th>\n",
       "      <th>0</th>\n",
       "      <th>1</th>\n",
       "    </tr>\n",
       "  </thead>\n",
       "  <tbody>\n",
       "    <tr>\n",
       "      <th>0</th>\n",
       "      <td>100</td>\n",
       "      <td>92</td>\n",
       "    </tr>\n",
       "    <tr>\n",
       "      <th>1</th>\n",
       "      <td>7</td>\n",
       "      <td>175</td>\n",
       "    </tr>\n",
       "  </tbody>\n",
       "</table>\n",
       "</div>"
      ],
      "text/plain": [
       "     0    1\n",
       "0  100   92\n",
       "1    7  175"
      ]
     },
     "execution_count": 42,
     "metadata": {},
     "output_type": "execute_result"
    }
   ],
   "source": [
    "#使用混淆矩陣，確認一下分類錯誤\n",
    "from sklearn.metrics import confusion_matrix\n",
    "cm=confusion_matrix(tag_test,predict)\n",
    "pd.DataFrame(cm)"
   ]
  },
  {
   "cell_type": "code",
   "execution_count": 114,
   "metadata": {},
   "outputs": [],
   "source": [
    "#保存KNN模型\n",
    "#import pickle \n",
    "with open('ModelSave/KNN_Label_P.pickle','wb')as f:\n",
    "    pickle.dump(clf,f)"
   ]
  },
  {
   "cell_type": "code",
   "execution_count": 118,
   "metadata": {},
   "outputs": [],
   "source": [
    "#隨便找一筆個資料來預測\n",
    "\n",
    "# #綠\n",
    "#strl=\"前總統李登輝因跌傷送台北榮總，雖然病情穩定許多，但還在復健養病，這次跨年只能在醫院度過。李登輝辦公室主任王燕軍表示，李前總統狀況很好，慢慢可以吃較為軟爛的食物，也能自己起床坐臥，感謝大家關心。李登輝何時可以出院？王燕軍表示，還沒討論到這一塊。不過北榮日前表示，醫療團隊會朝春節前出院的方向努力，讓李前總統回家過年。高齡95歲的李登輝去年11月29從起居室起身要到臥室時，不慎往前跌倒，當下撞到右側眉骨上方，除了鼻腔內側出血，也有些微腦出血。經北榮悉心治療，李的病情獲得控制，12月12日轉入普通病房，展開肌力與吞嚥復健\"\n",
    "#strl=\"桃園市長鄭文燦今出席中壢青埔的元旦升旗典禮許下5個願望，盼藉此讓桃園城市轉型，讓市民生活更好。新的一年，他同時期望民進黨可以檢討、改革、接地氣，以人民的感受為出發點，找出新的方向，一個政黨的生命在於人民的支持，人民的感受是最重要的，希望未來的團隊，能夠以此當作出發點。鄭文燦許下元旦的5個願望，包括航空城計畫、亞洲矽谷計畫、軌道建設、城市轉型基礎建設，以及照顧年輕人的政策。透過這些目標「轉大人」，讓桃園成為台灣的亮點城市，也成為台商回台首選，希望桃園繼續往前衝衝衝。對於媒體詢問，市長是否有個人的願望時，鄭文燦則說，當市長的每一天都在努力完成市民的願望，自己最大的願望，就是每一天的工作都要做好。他也祈願中華民國台灣，能夠往前走，每一步都能穩健也走出希望。\"\n",
    "\n",
    "#藍\n",
    "strl=\"民進黨敗選後，蔡政府的演出越來越像沒定稿的「預告片」，不時在修改劇情，連導演也不曉得要如何收尾。最糟糕的是，「演員表」都排不定，不知誰要擔綱演出。例如，閣揆賴清德第一時間辭職，第一時間就被慰留；他隨即預告「堅定走人」，但蔡總統又宣稱「堅定留人」。這些，都只是「預告」。這些欲拒還迎的過程，本應在電影開拍之前全部敲定，現在，卻把幕後的拉拉扯扯都露給觀眾看。沒定稿的「預告片」，是指情節仍未構思完整，導演就拿出一些語焉不詳的片段來唬人，預告是為了掩飾茫然。在正常的民主國家，閣揆敗選就下台負責，新閣布局成形就上台開工。但在台灣，蔡政府卻在兩者之間游移，要下的下不去，該上的上不來，跟吳音寧和管中閔爭議時一樣。請問，台灣連一個正常民主國家的規格都跟不上了嗎？內閣人事喬不定，已經讓人看了心慌慌，但政府決策的出爾反爾，比未定稿的「預告片」更令人瘋狂。規劃已久的機車加裝ＡＢＳ系統政策，一推出，就遭總統一口否決。為了防疫安全，那廂對非洲豬瘟祭出大棒，這廂卻叫停洗選蛋政策，顯示任何政策都無定論。更驚奇的是「卡管」案，開拍時是綠色恐怖片，中途變成警匪教育片，收場卻是懸疑推理劇。一個結局，神祕的峰迴路轉，任觀眾各自解讀。\"\n",
    "#strl=\"國民黨發言人、文傳會副主委洪孟楷今天上午透過臉書宣布將投入明年新北市第一選區（淡水、林口、泰山、八里、三芝、石門）立委選舉，並喊出「世代交替和經驗傳承是現在的共識」，對此也已表明參選該區立委的國民黨前立委吳育昇表示，他樂見洪孟楷表態競爭，但他認為「世代交替」這個字眼不好，「難道在立院比洪孟楷年紀還大的都要被世代交替嗎？」吳育昇表示，國民黨是民主政黨，本來就可以公開黨內競爭，但洪孟楷參選打出「世代交替」，他認為不好、不妥，吳育昇說，2018年九合一大選韓國瑜掀起韓流、侯友宜獲得壓倒性支持，原因都不在年紀，若比洪孟楷年紀大的就要世代交替，立院比洪年紀大的立委，像費鴻泰、曾銘宗等人，是否也要被交替？吳育昇說，立委作為中央層級的民意代表，要有成熟的問政技巧，耕耘專業領域、完整歷練，並有宏觀格局，才有代表性，而非只是考量年紀。他在新北市立委第一選區連任3屆立委，對地方最瞭解，現在逐一實現的淡海輕軌、淡江大橋都是他爭取的建設，在地方服務有口碑。吳育昇也說，3年前因大環境不利所以落選，但他對地方的關懷沒有停過，去年他積極輔選侯友宜，侯友宜當選新北市長後也鼓勵他再參選立委為地方服務，因此去年九合一大選後，他也已明確對外表態將捲土重來挑戰該區立委。除洪孟楷、吳育昇外，也傳出地方勸進剛在議員選舉中拿下選區最高票的議員蔡淑君，蔡淑君去年底投票獲3萬8000多票，但光是在林口就拿下約3萬票，基層實力驚人。對此蔡淑君表示，她謝謝大家的肯定和鼓勵，是否參選立委，她仍審慎評估中。國民黨新北市黨部主委李乾龍表示，新北立委第一選區有多人表達意願，將等黨中央擬出提名、初選相關辦法後，再進行協調。\"\n",
    "#strl=\"國民黨發言人洪孟楷今早宣布投入2020立委選舉，參選第10屆新北市第一選區（淡水、林口、泰山、八里、三芝、石門）立委，將有機會對戰有「淡水蔡依林」之稱的現任綠委呂孫綾。洪孟楷表示，看到中央執政的弊病不斷，現在的執政黨無心想人民，只在意如何打擊政敵，對付國民黨；《勞動基準法》亂修、年金改革違反信賴原則、前瞻計畫是撒錢自肥、兩岸關係冷凍，他所熱愛的台灣與中華民國，還有多少個4年可以浪費呢？他將用要用年輕的熱忱，打一場正向陽光選戰，要用過去10年累積的專業，監督揭弊、爭取預算，不做負面攻擊、跳脫政黨鬥爭。兼任文傳會義務職副主委的洪孟楷今正式表態參選2020立委，他說，過去馬政府8年執政，當時他與國民黨並未有過多接觸，然在2016年國民黨在野後，當眾人選擇遠離，他毅然決然擔任黨職，並且為黨辯護，捍衛，可以說國民黨越弱時、更加不離不棄，因為相信民主政治需要良好的監督制衡，才能夠給民眾更好的生活。洪孟楷說，在政論節目中他只論理、不硬拗，因為相信「真理越辯越明」，但過去國民黨有不對的地方也絕不護短；在地方服務上，更是不分黨派、不分顏色，只要是對地方好的事物，孟楷勇於付出，樂於奉獻，這是他永遠的承諾。洪孟楷說，在這次九合一選舉中看到了「討厭民進黨」的勝利，但不見得是每個人都對於國民黨放心，因此，如果接下來的選舉，國民黨還是沒有任何改變，用一樣的面孔來面對選民，這樣怎麼能夠回應民眾對於政黨的期待呢？洪孟楷說，今年36歲的他，有完整的中央、地方政府歷練，曾是前台北縣副縣長蔡家福秘書，嘉義市政府文化局局長，也是行政院前院長江宜樺辦公室專門委員，他有信心能夠為公眾爭取權利，創造地方人人發大財\""
   ]
  },
  {
   "cell_type": "code",
   "execution_count": 119,
   "metadata": {},
   "outputs": [],
   "source": [
    "#隨便找一筆個資料來預測\n",
    "strl=\" \".join(jieba.cut(strl))\n",
    "test_text=strl.split(' ')\n",
    "inferred_vector=model_dm.infer_vector(doc_words=test_text,alpha=0.025,steps=500)\n",
    "ddf = pd.DataFrame(columns=['tag', 'd2v_Vec'])\n",
    "ddf.loc[0,'d2v_Vec']=list(inferred_vector)"
   ]
  },
  {
   "cell_type": "code",
   "execution_count": 120,
   "metadata": {},
   "outputs": [
    {
     "name": "stdout",
     "output_type": "stream",
     "text": [
      "預測 : ['0']\n"
     ]
    }
   ],
   "source": [
    "predict=clf.predict(list(ddf['d2v_Vec']))\n",
    "print(\"預測 :\", predict)"
   ]
  },
  {
   "cell_type": "code",
   "execution_count": 121,
   "metadata": {},
   "outputs": [],
   "source": [
    "# #叫模型出來用\n",
    "# import pickle\n",
    "# with open('ModelSave/doc2vec_Label_P.pickle','rb')as f:\n",
    "#     model_dm=pickle.load(f)\n",
    "    "
   ]
  },
  {
   "cell_type": "code",
   "execution_count": null,
   "metadata": {},
   "outputs": [],
   "source": []
  }
 ],
 "metadata": {
  "kernelspec": {
   "display_name": "Python 3",
   "language": "python",
   "name": "python3"
  },
  "language_info": {
   "codemirror_mode": {
    "name": "ipython",
    "version": 3
   },
   "file_extension": ".py",
   "mimetype": "text/x-python",
   "name": "python",
   "nbconvert_exporter": "python",
   "pygments_lexer": "ipython3",
   "version": "3.6.0"
  }
 },
 "nbformat": 4,
 "nbformat_minor": 2
}
