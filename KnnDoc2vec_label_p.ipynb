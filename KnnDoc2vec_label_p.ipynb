{
 "cells": [
  {
   "cell_type": "markdown",
   "metadata": {},
   "source": [
    "import gensim\n",
    "from gensim.models.doc2vec import Doc2Vec"
   ]
  },
  {
   "cell_type": "code",
   "execution_count": 1,
   "metadata": {},
   "outputs": [],
   "source": [
    "import pandas as pd\n",
    "import jieba"
   ]
  },
  {
   "cell_type": "code",
   "execution_count": 2,
   "metadata": {},
   "outputs": [
    {
     "name": "stderr",
     "output_type": "stream",
     "text": [
      "C:\\Users\\Big data\\AppData\\Local\\Programs\\Python\\Python36\\lib\\site-packages\\gensim\\utils.py:1212: UserWarning: detected Windows; aliasing chunkize to chunkize_serial\n",
      "  warnings.warn(\"detected Windows; aliasing chunkize to chunkize_serial\")\n"
     ]
    }
   ],
   "source": [
    "#叫模型出來用\n",
    "import pickle\n",
    "with open('ModelSave/doc2vec_Label_P.pickle','rb')as f:\n",
    "    model_dm=pickle.load(f)\n",
    "    "
   ]
  },
  {
   "cell_type": "code",
   "execution_count": 3,
   "metadata": {},
   "outputs": [],
   "source": [
    "#import pickle\n",
    "with open('ModelSave/KNN_Label_P.pickle','rb')as f:\n",
    "    clf=pickle.load(f)"
   ]
  },
  {
   "cell_type": "code",
   "execution_count": 12,
   "metadata": {},
   "outputs": [],
   "source": [
    "#隨便找一筆個資料來預測\n",
    "\n",
    "# #綠\n",
    "#strl=\"前總統李登輝因跌傷送台北榮總，雖然病情穩定許多，但還在復健養病，這次跨年只能在醫院度過。李登輝辦公室主任王燕軍表示，李前總統狀況很好，慢慢可以吃較為軟爛的食物，也能自己起床坐臥，感謝大家關心。李登輝何時可以出院？王燕軍表示，還沒討論到這一塊。不過北榮日前表示，醫療團隊會朝春節前出院的方向努力，讓李前總統回家過年。高齡95歲的李登輝去年11月29從起居室起身要到臥室時，不慎往前跌倒，當下撞到右側眉骨上方，除了鼻腔內側出血，也有些微腦出血。經北榮悉心治療，李的病情獲得控制，12月12日轉入普通病房，展開肌力與吞嚥復健\"\n",
    "#strl=\"桃園市長鄭文燦今出席中壢青埔的元旦升旗典禮許下5個願望，盼藉此讓桃園城市轉型，讓市民生活更好。新的一年，他同時期望民進黨可以檢討、改革、接地氣，以人民的感受為出發點，找出新的方向，一個政黨的生命在於人民的支持，人民的感受是最重要的，希望未來的團隊，能夠以此當作出發點。鄭文燦許下元旦的5個願望，包括航空城計畫、亞洲矽谷計畫、軌道建設、城市轉型基礎建設，以及照顧年輕人的政策。透過這些目標「轉大人」，讓桃園成為台灣的亮點城市，也成為台商回台首選，希望桃園繼續往前衝衝衝。對於媒體詢問，市長是否有個人的願望時，鄭文燦則說，當市長的每一天都在努力完成市民的願望，自己最大的願望，就是每一天的工作都要做好。他也祈願中華民國台灣，能夠往前走，每一步都能穩健也走出希望。\"\n",
    "\n",
    "#藍\n",
    "strl=\"民進黨敗選後，蔡政府的演出越來越像沒定稿的「預告片」，不時在修改劇情，連導演也不曉得要如何收尾。最糟糕的是，「演員表」都排不定，不知誰要擔綱演出。例如，閣揆賴清德第一時間辭職，第一時間就被慰留；他隨即預告「堅定走人」，但蔡總統又宣稱「堅定留人」。這些，都只是「預告」。這些欲拒還迎的過程，本應在電影開拍之前全部敲定，現在，卻把幕後的拉拉扯扯都露給觀眾看。沒定稿的「預告片」，是指情節仍未構思完整，導演就拿出一些語焉不詳的片段來唬人，預告是為了掩飾茫然。在正常的民主國家，閣揆敗選就下台負責，新閣布局成形就上台開工。但在台灣，蔡政府卻在兩者之間游移，要下的下不去，該上的上不來，跟吳音寧和管中閔爭議時一樣。請問，台灣連一個正常民主國家的規格都跟不上了嗎？內閣人事喬不定，已經讓人看了心慌慌，但政府決策的出爾反爾，比未定稿的「預告片」更令人瘋狂。規劃已久的機車加裝ＡＢＳ系統政策，一推出，就遭總統一口否決。為了防疫安全，那廂對非洲豬瘟祭出大棒，這廂卻叫停洗選蛋政策，顯示任何政策都無定論。更驚奇的是「卡管」案，開拍時是綠色恐怖片，中途變成警匪教育片，收場卻是懸疑推理劇。一個結局，神祕的峰迴路轉，任觀眾各自解讀。\"\n",
    "#strl=\"國民黨發言人、文傳會副主委洪孟楷今天上午透過臉書宣布將投入明年新北市第一選區（淡水、林口、泰山、八里、三芝、石門）立委選舉，並喊出「世代交替和經驗傳承是現在的共識」，對此也已表明參選該區立委的國民黨前立委吳育昇表示，他樂見洪孟楷表態競爭，但他認為「世代交替」這個字眼不好，「難道在立院比洪孟楷年紀還大的都要被世代交替嗎？」吳育昇表示，國民黨是民主政黨，本來就可以公開黨內競爭，但洪孟楷參選打出「世代交替」，他認為不好、不妥，吳育昇說，2018年九合一大選韓國瑜掀起韓流、侯友宜獲得壓倒性支持，原因都不在年紀，若比洪孟楷年紀大的就要世代交替，立院比洪年紀大的立委，像費鴻泰、曾銘宗等人，是否也要被交替？吳育昇說，立委作為中央層級的民意代表，要有成熟的問政技巧，耕耘專業領域、完整歷練，並有宏觀格局，才有代表性，而非只是考量年紀。他在新北市立委第一選區連任3屆立委，對地方最瞭解，現在逐一實現的淡海輕軌、淡江大橋都是他爭取的建設，在地方服務有口碑。吳育昇也說，3年前因大環境不利所以落選，但他對地方的關懷沒有停過，去年他積極輔選侯友宜，侯友宜當選新北市長後也鼓勵他再參選立委為地方服務，因此去年九合一大選後，他也已明確對外表態將捲土重來挑戰該區立委。除洪孟楷、吳育昇外，也傳出地方勸進剛在議員選舉中拿下選區最高票的議員蔡淑君，蔡淑君去年底投票獲3萬8000多票，但光是在林口就拿下約3萬票，基層實力驚人。對此蔡淑君表示，她謝謝大家的肯定和鼓勵，是否參選立委，她仍審慎評估中。國民黨新北市黨部主委李乾龍表示，新北立委第一選區有多人表達意願，將等黨中央擬出提名、初選相關辦法後，再進行協調。\"\n"
   ]
  },
  {
   "cell_type": "code",
   "execution_count": 13,
   "metadata": {},
   "outputs": [],
   "source": [
    "#隨便找一筆個資料來預測\n",
    "strl=\" \".join(jieba.cut(strl))\n",
    "test_text=strl.split(' ')\n",
    "inferred_vector=model_dm.infer_vector(doc_words=test_text,alpha=0.025,steps=500)\n",
    "ddf = pd.DataFrame(columns=['tag', 'd2v_Vec'])\n",
    "ddf.loc[0,'d2v_Vec']=list(inferred_vector)"
   ]
  },
  {
   "cell_type": "code",
   "execution_count": 14,
   "metadata": {},
   "outputs": [
    {
     "name": "stdout",
     "output_type": "stream",
     "text": [
      "預測 : ['0']\n"
     ]
    }
   ],
   "source": [
    "predict=clf.predict(list(ddf['d2v_Vec']))\n",
    "print(\"預測 :\", predict)"
   ]
  },
  {
   "cell_type": "code",
   "execution_count": null,
   "metadata": {},
   "outputs": [],
   "source": []
  }
 ],
 "metadata": {
  "kernelspec": {
   "display_name": "Python 3",
   "language": "python",
   "name": "python3"
  },
  "language_info": {
   "codemirror_mode": {
    "name": "ipython",
    "version": 3
   },
   "file_extension": ".py",
   "mimetype": "text/x-python",
   "name": "python",
   "nbconvert_exporter": "python",
   "pygments_lexer": "ipython3",
   "version": "3.6.0"
  }
 },
 "nbformat": 4,
 "nbformat_minor": 2
}
