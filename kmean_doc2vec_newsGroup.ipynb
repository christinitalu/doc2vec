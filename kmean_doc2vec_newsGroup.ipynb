{
 "cells": [
  {
   "cell_type": "code",
   "execution_count": 1,
   "metadata": {},
   "outputs": [
    {
     "name": "stderr",
     "output_type": "stream",
     "text": [
      "C:\\Users\\Big data\\AppData\\Local\\Programs\\Python\\Python36\\lib\\site-packages\\gensim\\utils.py:1212: UserWarning: detected Windows; aliasing chunkize to chunkize_serial\n  warnings.warn(\"detected Windows; aliasing chunkize to chunkize_serial\")\n"
     ]
    }
   ],
   "source": [
    "import pandas as pd\n",
    "import json\n",
    "import sys\n",
    "import os\n",
    "import gensim\n",
    "import numpy as np\n",
    "import glob\n",
    "from sklearn.cluster import KMeans\n",
    "from gensim.models.doc2vec import Doc2Vec"
   ]
  },
  {
   "cell_type": "code",
   "execution_count": 2,
   "metadata": {},
   "outputs": [
    {
     "name": "stdout",
     "output_type": "stream",
     "text": [
      "                                             content                 date_  \\\n",
      "0  前總統馬英九（右）30日在立法院出席「青島東很多派對」第3屆國會青年體驗營講座，進場時向一旁...           2018-06-30    \n",
      "1  國民黨台北市長參選人丁守中（前右）30日在台北出席「中華海峽兩岸客家文經交流協會」會員大會，...           2018-06-30    \n",
      "2  國民黨台北市長參選人丁守中（左）30日在台北出席「中華海峽兩岸客家文經交流協會」會員大會，爭...           2018-06-30    \n",
      "3  （中央社記者蕭博陽南投縣30日電）總統蔡英文今天視察草屯植物公園，總統肯定草屯鎮長洪國浩施政...  2018-06-30 13:09:41    \n",
      "4  （中央社記者王淑芬高雄30日電）總統府秘書長陳菊今天南下出席高雄市旗山區圖書分館落成。她說，...  2018-06-30 12:45:41    \n",
      "\n",
      "                                             infor source  tag  \\\n",
      "0                            2018-06-30 /中央社 /國內政治   中央社   NaN   \n",
      "1                            2018-06-30 /中央社 /國內政治   中央社   NaN   \n",
      "2                            2018-06-30 /中央社 /國內政治   中央社   NaN   \n",
      "3  2018-06-30 13:09:41 /中央社 /國內政治 /中央社記者蕭博陽南投縣30日電   中央社   NaN   \n",
      "4   2018-06-30 12:45:41 /中央社 /國內政治 /中央社記者王淑芬高雄30日電   中央社   NaN   \n",
      "\n",
      "                title     type  \n",
      "0   馬英九出席國會青年體驗營（1）\\n  printed  \n",
      "1      丁守中與吳伯雄同台（2）\\n  printed  \n",
      "2      丁守中與吳伯雄同台（1）\\n  printed  \n",
      "3  墓仔埔變公園 總統肯定洪國浩施政\\n  printed  \n",
      "4  陳菊：為陳其邁輔選是應該也是責任\\n  printed  \n"
     ]
    },
    {
     "name": "stderr",
     "output_type": "stream",
     "text": [
      "C:\\Users\\Big data\\AppData\\Local\\Programs\\Python\\Python36\\lib\\site-packages\\ipykernel_launcher.py:6: FutureWarning: Sorting because non-concatenation axis is not aligned. A future version\n",
      "of pandas will change to not sort by default.\n",
      "\n",
      "To accept the future behavior, pass 'sort=False'.\n",
      "\n",
      "To retain the current behavior and silence the warning, pass 'sort=True'.\n",
      "\n",
      "  \n"
     ]
    }
   ],
   "source": [
    "df_all = pd.DataFrame(columns=[ 'content', 'date_', 'infor', 'source', 'tag','title', 'type', ])\n",
    "for files in glob.glob('E:/news_project/news_beforeETL/printed_news/printed_news_1040'):\n",
    "    with open(files,\"r\", encoding=\"utf-8\") as json_data:\n",
    "        data = json.load(json_data)\n",
    "        df = pd.DataFrame.from_dict(data, orient='columns')\n",
    "        df_all=pd.concat([df_all,df],axis=0,ignore_index=True )\n",
    "print(df_all.head())"
   ]
  },
  {
   "cell_type": "code",
   "execution_count": 3,
   "metadata": {},
   "outputs": [
    {
     "name": "stdout",
     "output_type": "stream",
     "text": [
      "                                             content               title\n",
      "0  前總統馬英九（右）30日在立法院出席「青島東很多派對」第3屆國會青年體驗營講座，進場時向一旁...   馬英九出席國會青年體驗營（1）\\n\n",
      "1  國民黨台北市長參選人丁守中（前右）30日在台北出席「中華海峽兩岸客家文經交流協會」會員大會，...      丁守中與吳伯雄同台（2）\\n\n",
      "2  國民黨台北市長參選人丁守中（左）30日在台北出席「中華海峽兩岸客家文經交流協會」會員大會，爭...      丁守中與吳伯雄同台（1）\\n\n",
      "3  （中央社記者蕭博陽南投縣30日電）總統蔡英文今天視察草屯植物公園，總統肯定草屯鎮長洪國浩施政...  墓仔埔變公園 總統肯定洪國浩施政\\n\n",
      "4  （中央社記者王淑芬高雄30日電）總統府秘書長陳菊今天南下出席高雄市旗山區圖書分館落成。她說，...  陳菊：為陳其邁輔選是應該也是責任\\n\n"
     ]
    }
   ],
   "source": [
    "df=df_all\n",
    "#df = df.drop([\"author\"], axis=1)\n",
    "df = df.drop([\"date_\"], axis=1)\n",
    "df = df.drop([\"infor\"], axis=1)\n",
    "df = df.drop([\"tag\"], axis=1)\n",
    "df = df.drop([\"source\"], axis=1)\n",
    "df = df.drop([\"type\"], axis=1)\n",
    "#df = df.drop([\"url\"], axis=1)\n",
    "print(df.head())"
   ]
  },
  {
   "cell_type": "code",
   "execution_count": 4,
   "metadata": {},
   "outputs": [
    {
     "name": "stdout",
     "output_type": "stream",
     "text": [
      "                                             content               title\n",
      "0  前總統馬英九（右）30日在立法院出席「青島東很多派對」第3屆國會青年體驗營講座，進場時向一旁...   馬英九出席國會青年體驗營（1）\\n\n",
      "1  國民黨台北市長參選人丁守中（前右）30日在台北出席「中華海峽兩岸客家文經交流協會」會員大會，...      丁守中與吳伯雄同台（2）\\n\n",
      "2  國民黨台北市長參選人丁守中（左）30日在台北出席「中華海峽兩岸客家文經交流協會」會員大會，爭...      丁守中與吳伯雄同台（1）\\n\n",
      "3  （中央社記者蕭博陽南投縣30日電）總統蔡英文今天視察草屯植物公園，總統肯定草屯鎮長洪國浩施政...  墓仔埔變公園 總統肯定洪國浩施政\\n\n",
      "4  （中央社記者王淑芬高雄30日電）總統府秘書長陳菊今天南下出席高雄市旗山區圖書分館落成。她說，...  陳菊：為陳其邁輔選是應該也是責任\\n\n"
     ]
    }
   ],
   "source": [
    "print(df.head())"
   ]
  },
  {
   "cell_type": "code",
   "execution_count": 5,
   "metadata": {},
   "outputs": [],
   "source": [
    "def split_news(news):\n",
    "    return \" \".join(jieba.cut(news))\n",
    "\n",
    "def process_news(df):\n",
    "    df['content'] = df ['content'].apply(split_news)\n",
    "    df['title'] = df['title'].str.replace('\\r','')\n",
    "    df['title'] = df['title'].str.replace('\\n','')\n",
    "    return df"
   ]
  },
  {
   "cell_type": "code",
   "execution_count": 6,
   "metadata": {},
   "outputs": [
    {
     "name": "stderr",
     "output_type": "stream",
     "text": [
      "Building prefix dict from the default dictionary ...\n",
      "Loading model from cache C:\\Users\\BIGDAT~1\\AppData\\Local\\Temp\\jieba.cache\n",
      "Loading model cost 0.743 seconds.\n",
      "Prefix dict has been built succesfully.\n"
     ]
    }
   ],
   "source": [
    "import jieba\n",
    "df = process_news(df)"
   ]
  },
  {
   "cell_type": "code",
   "execution_count": 7,
   "metadata": {
    "scrolled": true
   },
   "outputs": [
    {
     "data": {
      "text/html": [
       "<div>\n",
       "<style scoped>\n",
       "    .dataframe tbody tr th:only-of-type {\n",
       "        vertical-align: middle;\n",
       "    }\n",
       "\n",
       "    .dataframe tbody tr th {\n",
       "        vertical-align: top;\n",
       "    }\n",
       "\n",
       "    .dataframe thead th {\n",
       "        text-align: right;\n",
       "    }\n",
       "</style>\n",
       "<table border=\"1\" class=\"dataframe\">\n",
       "  <thead>\n",
       "    <tr style=\"text-align: right;\">\n",
       "      <th></th>\n",
       "      <th>content</th>\n",
       "      <th>title</th>\n",
       "    </tr>\n",
       "  </thead>\n",
       "  <tbody>\n",
       "    <tr>\n",
       "      <th>0</th>\n",
       "      <td>前 總統 馬 英九 （ 右 ） 30 日 在 立法院 出席 「 青島東 很多 派 對 」 第...</td>\n",
       "      <td>馬英九出席國會青年體驗營（1）</td>\n",
       "    </tr>\n",
       "    <tr>\n",
       "      <th>1</th>\n",
       "      <td>國民黨 台北市 長 參選人 丁守中 （ 前右 ） 30 日 在 台北 出席 「 中華海峽 兩...</td>\n",
       "      <td>丁守中與吳伯雄同台（2）</td>\n",
       "    </tr>\n",
       "    <tr>\n",
       "      <th>2</th>\n",
       "      <td>國民黨 台北市 長 參選人 丁守中 （ 左 ） 30 日 在 台北 出席 「 中華海峽 兩岸...</td>\n",
       "      <td>丁守中與吳伯雄同台（1）</td>\n",
       "    </tr>\n",
       "    <tr>\n",
       "      <th>3</th>\n",
       "      <td>（ 中央社 記者 蕭博陽 南投 縣 30 日電 ） 總統 蔡 英文 今天 視察 草屯 植物 ...</td>\n",
       "      <td>墓仔埔變公園 總統肯定洪國浩施政</td>\n",
       "    </tr>\n",
       "    <tr>\n",
       "      <th>4</th>\n",
       "      <td>（ 中央社 記者 王淑芬 高雄 30 日電 ） 總統府 秘書長 陳 菊 今天 南下 出席 高...</td>\n",
       "      <td>陳菊：為陳其邁輔選是應該也是責任</td>\n",
       "    </tr>\n",
       "  </tbody>\n",
       "</table>\n",
       "</div>"
      ],
      "text/plain": [
       "                                             content             title\n",
       "0  前 總統 馬 英九 （ 右 ） 30 日 在 立法院 出席 「 青島東 很多 派 對 」 第...   馬英九出席國會青年體驗營（1）\n",
       "1  國民黨 台北市 長 參選人 丁守中 （ 前右 ） 30 日 在 台北 出席 「 中華海峽 兩...      丁守中與吳伯雄同台（2）\n",
       "2  國民黨 台北市 長 參選人 丁守中 （ 左 ） 30 日 在 台北 出席 「 中華海峽 兩岸...      丁守中與吳伯雄同台（1）\n",
       "3  （ 中央社 記者 蕭博陽 南投 縣 30 日電 ） 總統 蔡 英文 今天 視察 草屯 植物 ...  墓仔埔變公園 總統肯定洪國浩施政\n",
       "4  （ 中央社 記者 王淑芬 高雄 30 日電 ） 總統府 秘書長 陳 菊 今天 南下 出席 高...  陳菊：為陳其邁輔選是應該也是責任"
      ]
     },
     "execution_count": 7,
     "metadata": {},
     "output_type": "execute_result"
    }
   ],
   "source": [
    "df.head()"
   ]
  },
  {
   "cell_type": "code",
   "execution_count": 8,
   "metadata": {},
   "outputs": [],
   "source": [
    "#取出content列為一個list\n",
    "b=list(df['content'])"
   ]
  },
  {
   "cell_type": "code",
   "execution_count": 9,
   "metadata": {},
   "outputs": [],
   "source": [
    "### 取所有'content'欄位的值\n",
    "# df.loc[:,['content']]\n",
    "\n",
    "### 取第0個值_行，在第0個欄位('content')_欄\n",
    "# t=df.iloc[0,0]\n",
    "# print(type(t))\n",
    "\n",
    "### 文檔放到list中\n",
    "# data = []\n",
    "# for d in range(0,300):\n",
    "#     t=df.iloc[d,0]\n",
    "#     data.append(t)"
   ]
  },
  {
   "cell_type": "code",
   "execution_count": 10,
   "metadata": {},
   "outputs": [],
   "source": [
    "TaggededDocument=gensim.models.doc2vec.TaggedDocument"
   ]
  },
  {
   "cell_type": "code",
   "execution_count": 11,
   "metadata": {},
   "outputs": [],
   "source": [
    "x_train=[]\n",
    "for i, text in enumerate(b):\n",
    "    word_list = text.split(' ')\n",
    "    l = len(word_list)\n",
    "    word_list[l-1]=word_list[l-1].strip()\n",
    "    document=TaggededDocument(word_list,tags=[i])\n",
    "    x_train.append(document)\n",
    "#print(x_train)\n",
    "c = x_train"
   ]
  },
  {
   "cell_type": "markdown",
   "metadata": {},
   "source": [
    "*sentences：可以是一个list，对于大语料集，建议使用BrownCorpus,Text8Corpus或lineSentence构建。\n",
    "*size：是指特征向量的维度，默认为100。\n",
    "*alpha: 是初始的学习速率，在训练过程中会线性地递减到min_alpha。\n",
    "*window：窗口大小，表示当前词与预测词在一个句子中的最大距离是多少。\n",
    "*min_count:可以对字典做截断. 词频少于min_count次数的单词会被丢弃掉, 默认值为5。\n",
    "*max_vocab_size: 设置词向量构建期间的RAM限制，设置成None则没有限制。\n",
    "*sample: 高频词汇的随机降采样的配置阈值，默认为1e-3，范围是(0,1e-5)。\n",
    "*seed：用于随机数发生器。与初始化词向量有关。\n",
    "*workers：用于控制训练的并行数。\n",
    "*min_alpha：学习率的最小值。\n",
    "*sg： 用于设置训练算法，默认为0，对应CBOW算法；sg=1则采用skip-gram算法。\n",
    "*hs: 如果为1则会采用hierarchica·softmax技巧。如果设置为0（默认），则使用negative sampling。\n",
    "*negative: 如果>0,则会采用negativesampling，用于设置多少个noise words（一般是5-20）。\n",
    "*cbow_mean: 如果为0，则采用上下文词向量的和，如果为1（default）则采用均值，只有使用CBOW的时候才起作用。\n",
    "*hashfxn： hash函数来初始化权重，默认使用python的hash函数。\n",
    "*iter： 迭代次数，默认为5。\n",
    "*trim_rule： 用于设置词汇表的整理规则，指定那些单词要留下，哪些要被删除。可以设置为None（min_count会被使用）。\n",
    "*sorted_vocab： 如果为1（默认），则在分配word index 的时候会先对单词基于频率降序排序。\n",
    "*batch_words：每一批的传递给线程的单词的数量，默认为10000。"
   ]
  },
  {
   "cell_type": "code",
   "execution_count": 12,
   "metadata": {},
   "outputs": [],
   "source": [
    "model=Doc2Vec(x_train, min_count=1, window=3, vector_size=300, negative=5,workers=4)\n",
    "model.train(x_train,total_examples=model.corpus_count,epochs=10)"
   ]
  },
  {
   "cell_type": "code",
   "execution_count": 13,
   "metadata": {},
   "outputs": [],
   "source": [
    "model_dm=model"
   ]
  },
  {
   "cell_type": "code",
   "execution_count": 45,
   "metadata": {},
   "outputs": [
    {
     "data": {
      "text/plain": [
       "[(111, 0.3222552537918091),\n",
       " (282, 0.32207155227661133),\n",
       " (204, 0.30986452102661133)]"
      ]
     },
     "execution_count": 45,
     "metadata": {},
     "output_type": "execute_result"
    }
   ],
   "source": [
    "#預測新句子的向量Paragraph vector了,這裡用gensim裡infer_vector(),\n",
    "#預測新的句子，這裡根據經驗，alpha（學習步長）設置小一些，\n",
    "#迭代次數設置大一些。找到訓練樣本中與這個句子最相近的10個句子。\n",
    "#可以看到訓練出來的結果與測試的新句子是有關聯的。\n",
    "strl=df.iloc[111,0]\n",
    "test_text=strl.split(' ')\n",
    "#得到向量array命名為inferred_vector\n",
    "inferred_vector=model_dm.infer_vector(doc_words=test_text,alpha=0.025,steps=500)\n",
    "\n",
    "sims=model_dm.docvecs.most_similar([inferred_vector],topn=3)\n",
    "sims"
   ]
  },
  {
   "cell_type": "code",
   "execution_count": 46,
   "metadata": {},
   "outputs": [
    {
     "name": "stdout",
     "output_type": "stream",
     "text": [
      "111 0.3222552537918091\n",
      "【 記者 蕭文彥 台北 報導 】 立法院 日前 初審 公司法 ， 經濟部 參考 立委 提案 內容且 新增 但書 被 稱 是 為 SOGO 案 量身 訂 做 的 帝王 條款 ， 且 未知 會 提案 立委 。 立法院 長 蘇嘉全 28 日 說 ， 這種 行為 不 尊重 立委 、 不妥 、 不護 短 。 蘇嘉全 28 日 上午 召集 朝野 黨團 協商 公司法 部分 條文 修正 草案 ， 對 於 初 審時 ， 朝野 立委 希望 在 公司法 第 9 條 修正 內容 ， 將 公司 登記 「 虛偽 不實 」 的 涵蓋 範圍 ， 明確 納入 刑法 偽造 文書 印文 罪章 規定 。 但 經濟部 加入 一項 但 書 ， 「 若 撤銷 或 廢止 有 重大 損害 股東 權益 或 公司 債權 人 利益 之虞者 ， 不在此限 」 ， 此舉 引發 朝野 立委 同聲 批評 。 上午 朝野 協商時 ， 國民黨 立委 廖國棟 、 孔文吉 接棒 發 言表 達不滿 ， 時代 力量 立委 黃 國昌 也 說 ， 經濟 部後來 提出 的 乙案 ， 加 了 但 書 ， 就是 所謂 的 「 帝王 條款 」 ， 提出 的 這個 版本 是 借用 委員之名 ， 是 賦予 經濟部 的 帝王 條款 ， 質疑 為 SOGO 案 量身 打造 。 經濟 部次長 王美花 解釋 ， 當時 誤解 ， 但 條文 說 明欄 清楚 表示 ， 除 參考 立委 意見 外 也 加入 但書 。 不過 ， 蘇嘉全 說 ， 現在 不是 談內容 ， 立委 授權 經濟部 整理 修正 內容 ， 經濟部 要 告知 立委 ， 這是 整理 後 的 修正 內容 ， 且 新增 的 但 書 規定 ， 「 你們 同 不 同意 」 ， 不是 內容 問題 而是 立法 程序 上 ， 這樣 不妥 ； 他個 人覺 得 這是 對 立委 的 不 尊重 。 蘇嘉全 拿出 版本 說 ， 文中 雖有 說明 參考 立委 高志 鵬 ， 但 高志 鵬 都 不 知道 ， 且後面 還加 但 書 ， 「 參考 我 的 就 照 我 的 ， 怎麼後面 還加 了 一堆 」 ； 柯建銘 回 說 「 那 就 不用 寫 參考 ， 照 高志 鵬委員 的 版本 就 好 」 ； 蘇嘉全 說 「 為 何不 寫 參考 廖國棟 委員 ， 人家 被 參考 立委 都 不爽 」 ， 兩人 一度 言詞 交鋒 。 蘇嘉全 強調 ， 不 對 就 不 對 ， 「 我們 不要 護短 」 ， 柯建銘 說 ， 這個 問題 就此打住 。 蘇嘉全 說 ， 經濟部 這樣 的 行為 是 不妥 ， 希望 以 後 各部 會處 理類 似 案件 ， 依照 立法 委員 職權 行使 法 與 議事 規則 處理 。 2018 / 6 / 28  0.3222552537918091 428\n",
      "282 0.32207155227661133\n",
      "〔 記者 李仁龍 台北 報導 〕 立法院 日前 初審 公司法 部份 條文 修正 草案 ， 經濟部 參考 立委 提案 內容且 新增 但書 被 稱 是 為 太平洋 Ｓ Ｏ Ｇ Ｏ 百貨案 量身 訂 做 的 帝王 條款 ， 且 未知 會 提案 立委 。 立法院 長 蘇嘉全 昨天 批評 ， 這種 行為 不 尊重 立委 ， 這樣 不妥 ， 「 我們 不要 護短 」 。 公司法 修正 草案 在 經濟委員會 初 審時 ， 朝野 立委 希望 在 第九 條 修正 內容 ， 將 公司 登記 「 虛偽 不實 」 的 涵蓋 範圍 ， 明確 納入 刑法 偽造 文書 印文 罪章 規定 ， 但 經濟部 加入 一項 但 書 ， 「 若 撤銷 或 廢止 有 重大 損害 股東 權益 或 公司 債權 人 利益 之虞者 ， 不在此限 」 ， 此舉 引發 朝野 立委 同聲 批評 。 蘇嘉全 上午 再度 召集 朝野 黨團 協商 ， 國民黨 立委 廖國棟 、 孔文吉 相繼發 言表 達不滿 ， 時代 力量 立委 黃 國昌 也 說 ， 經濟 部後來 提出 的 乙案 ， 加 了 但 書 ， 就是 所謂 的 「 帝王 條款 」 ， 提出 的 這個 版本 是 借用 委員之名 ， 是 賦予 經濟部 的 帝王 條款 ， 質疑 為 太平洋 Ｓ Ｏ Ｇ Ｏ 百貨案 量身 打造 。 與 會 的 經濟 部次長 王美花 解釋 ， 當時 誤解 ， 但 條文 說 明欄 清楚 表示 ， 除 參考 立委 意見 外 也 加入 但書 。 不過 ， 蘇嘉全 說 ， 現在 不是 談內容 ， 立委 授權 經濟部 整理 修正 內容 ， 經濟部 要 告知 立委 ， 這是 整理 後 的 修正 內容 ， 且 新增 的 但 書 規定 ， 「 你們 同 不 同意 」 ， 不是 內容 問題 而是 立法 程序 上 ， 這樣 不妥 ， 他個 人覺 得 這是 對 立委 的 不 尊重 。 蘇嘉全 指出 ， 文中 雖有 說 明參 考民進 黨 立委 高志 鵬 提案 ， 但 高志 鵬 都 不 知道 ， 且後面 還加 但 書 ， 「 參考 我 的 就 照 我 的 ， 怎麼後面 還加 了 一堆 ？ 」 民進 黨 立院 黨團 總召 柯建銘 說 ， 「 那 就 不用 寫 參考 ， 照 高志 鵬委員 的 版本 就 好 」 ； 蘇嘉全 反駁 ， 「 為 何不 寫 參考 廖國棟 委員 ， 人家 被 參考 立委 都 不爽 」 ， 兩人 一度 言詞 交鋒 。 蘇嘉全 說 ， 不 對 就 不 對 ， 「 我們 不要 護短 」 ； 柯建銘 態度 放軟 表示 ， 這個 問題 就此打住 。 蘇嘉全 表示 ， 經濟部 這樣 的 行為 是 不妥 ， 希望 以 後 各部 會處 理類 似 案件 ， 依照 立法 委員 職權 行使 法 與 議事 規則 處理 。  0.32207155227661133 440\n",
      "204 0.30986452102661133\n",
      "（ 中央社 記者 王承中 、 陳俊華 台北 29 日電 ） 立法院 院會 今天 二讀 公司法 部分 條文 修正 草案 無爭議 條文 ， 未 採納 限制 股東委 託 書授 權範圍 提案 ， 有關 公司 治理 人員 的 條文 ， 也 不予 增訂 。 爭議 條文 留待 7 月 6 日處理 。 立法院 長 蘇嘉全 上午 再度 召集 朝野 立法院 黨團 協商 公司法 部分 條文 修正 草案 ， 朝野 黨團 在 歷經近 2 小時 的 協商後達 成共識 ， 下午 召開 院會 進行 廣泛 討論 ， 並宣讀 無爭議 條文 ， 有關 實質 受益人 申報 、 持股 過半股 東可 召開 股東臨 時會 ， 以及 SOGO 條款 等 爭議 條文 ， 都 留待 7 月 6 日處理 。 立法院 院會 下午 2 時開會 ， 朝野 立委 在 經過 30 分鐘 的 廣泛 討論 發言 後 ， 院會 於 下午 2 時 30 分 左右 ， 開始 宣讀 公司法 部分 條文 修正 草案 無爭議 條文 ， 並 於 下午 4 時 20 分 ， 宣讀 完畢 ， 完成 無爭議 條文 的 二讀 程序 。 有關 股東委 託 書 規定 的 條文 ， 二讀 條文回 歸 行政院 版本 ， 規定 股東 得 於 每次 股東會 ， 出具 委 託 書 ， 載明 授權 範圍 ， 委 託 代理人 出席 ， 並 加 註 但 書 ， 公開 發行 股票 公司 ， 證券 主管 機關 另 有 規定者 ， 從 其 規定 。 根據 證交法 所定 的 公開 發行 公司 出席 股東會 使用 委 託 書 規則 規定 ， 公開 發行 公司 出席 股東會 使用 委 託 書 的 用紙 ， 以 公司 印發者 為 限 。 而 外界 關注 的 限制 股東委 託 書授 權範圍 ， 不得 涵蓋 股東會 董事 、 監察人 選舉 及 罷免 議案 ， 以 避免 徵求委 託 書爭 奪經 營權 狀況 的 提案 ， 則未 獲得 採納 。 另外 ， 行政院 版本 草案 與 多名 立委 提案 ， 都 有 有關 公司 得 依 章程 規定 ， 置 公司 治理 人員 協助 董事 ， 公司 治理 人員 的 委任 、 解任 及 報酬 規定 ， 以及 公司 治理 人員 職權 等 條文 ， 則 不予 增訂 。 立法院 職權 行使 法規定 ， 第三 讀會 ， 除 發現 議案 內容 有 互相 牴 觸 ， 或 與 憲法 、 其他 法律 相 牴 觸者 外 ， 祇 得 為 文字 之 修正 。 （ 編輯 ： 張均 懋 ） 1070629  0.30986452102661133 386\n"
     ]
    }
   ],
   "source": [
    "#找到與特定文章strl相似的文章\n",
    "\n",
    "for count, sim in sims:\n",
    "    print(count,sim)\n",
    "    sentence = c[count]\n",
    "    words = ''\n",
    "    \n",
    "    for word in sentence[0]:\n",
    "        words = words + word +' '\n",
    "    print(words,sim,len(sentence[0]))\n",
    "    "
   ]
  },
  {
   "cell_type": "code",
   "execution_count": 16,
   "metadata": {},
   "outputs": [
    {
     "name": "stdout",
     "output_type": "stream",
     "text": [
      "                                             content             title  \\\n",
      "0  前 總統 馬 英九 （ 右 ） 30 日 在 立法院 出席 「 青島東 很多 派 對 」 第...   馬英九出席國會青年體驗營（1）   \n",
      "1  國民黨 台北市 長 參選人 丁守中 （ 前右 ） 30 日 在 台北 出席 「 中華海峽 兩...      丁守中與吳伯雄同台（2）   \n",
      "2  國民黨 台北市 長 參選人 丁守中 （ 左 ） 30 日 在 台北 出席 「 中華海峽 兩岸...      丁守中與吳伯雄同台（1）   \n",
      "3  （ 中央社 記者 蕭博陽 南投 縣 30 日電 ） 總統 蔡 英文 今天 視察 草屯 植物 ...  墓仔埔變公園 總統肯定洪國浩施政   \n",
      "4  （ 中央社 記者 王淑芬 高雄 30 日電 ） 總統府 秘書長 陳 菊 今天 南下 出席 高...  陳菊：為陳其邁輔選是應該也是責任   \n",
      "\n",
      "                                             d2v_Vec  \n",
      "0  [0.23528457, -1.2880014, -0.53503346, -1.02029...  \n",
      "1  [-0.056727484, -0.8294517, -0.5735456, -1.0049...  \n",
      "2  [-0.017541343, -0.6924254, -0.45178822, -0.795...  \n",
      "3  [1.2334144, -0.10023116, -3.6274984, -1.173198...  \n",
      "4  [-1.1006318, 0.49320358, -0.094546005, 0.11488...  \n"
     ]
    }
   ],
   "source": [
    "#跑很久喔!請小心\n",
    "#所有的文章都得到固定長度的vec\n",
    "df['d2v_Vec']='0'\n",
    "for i in range(0,300):\n",
    "    strl=df.iloc[i,0]\n",
    "    test_text=strl.split(' ')\n",
    "    #得到向量array命名為inferred_vector\n",
    "    inferred_vector=model_dm.infer_vector(doc_words=test_text,alpha=0.025,steps=500)\n",
    "    \n",
    "    df.loc[i,'d2v_Vec']=list(inferred_vector)\n",
    "    \n",
    "print(df.head())    "
   ]
  },
  {
   "cell_type": "code",
   "execution_count": 18,
   "metadata": {
    "scrolled": true
   },
   "outputs": [],
   "source": [
    "#轉成list，kmean才可以讀\n",
    "infered_vectors_list=list(df['d2v_Vec'])\n"
   ]
  },
  {
   "cell_type": "code",
   "execution_count": 19,
   "metadata": {},
   "outputs": [],
   "source": [
    "from sklearn.cluster import KMeans\n",
    "from sklearn.metrics import silhouette_score\n",
    "import matplotlib.pyplot as plt\n",
    "%matplotlib inline\n",
    "scores=[]\n",
    "ks=[]\n",
    "\n",
    "for i in range(2, 11):\n",
    "    clu = KMeans(n_clusters= i)\n",
    "    clu.fit(infered_vectors_list)\n",
    "    clu_score = silhouette_score(infered_vectors_list, clu.labels_)\n",
    "    scores.append(clu_score)\n",
    "    ks.append(i)"
   ]
  },
  {
   "cell_type": "code",
   "execution_count": 47,
   "metadata": {},
   "outputs": [
    {
     "name": "stdout",
     "output_type": "stream",
     "text": [
      "分數 : [0.1716053, 0.13431266, 0.09306431, 0.10342569, 0.14213666, 0.12639947, 0.12940107, 0.109221265, 0.12772143]\n",
      "K值 : [2, 3, 4, 5, 6, 7, 8, 9, 10]\n"
     ]
    },
    {
     "data": {
      "text/plain": [
       "[<matplotlib.lines.Line2D at 0x1d332331160>]"
      ]
     },
     "execution_count": 47,
     "metadata": {},
     "output_type": "execute_result"
    },
    {
     "data": {
      "image/png": "[encoded data removed]",
      "text/plain": [
       "<Figure size 432x288 with 1 Axes>"
      ]
     },
     "metadata": {
      "needs_background": "light"
     },
     "output_type": "display_data"
    }
   ],
   "source": [
    "print(\"分數 :\", scores)\n",
    "print(\"K值 :\", ks)\n",
    "plt.plot(scores, ks)"
   ]
  },
  {
   "cell_type": "code",
   "execution_count": 48,
   "metadata": {},
   "outputs": [
    {
     "data": {
      "text/plain": [
       "array([1, 1, 1, 2, 1, 1, 0, 1, 1, 3, 0, 2, 3, 3, 1, 3, 3, 0, 2, 4, 5, 3,\n",
       "       0, 3, 3, 1, 0, 0, 0, 0, 0, 3, 0, 1, 1, 2, 2, 3, 2, 1, 2, 1, 1, 1,\n",
       "       1, 1, 1, 3, 5, 1, 3, 3, 3, 1, 3, 4, 0, 0, 1, 1, 1, 2, 3, 0, 1, 1,\n",
       "       3, 0, 0, 5, 1, 0, 3, 1, 1, 2, 1, 1, 1, 4, 1, 1, 1, 0, 0, 3, 2, 3,\n",
       "       2, 2, 0, 1, 3, 0, 0, 1, 1, 1, 1, 1, 1, 1, 1, 1, 0, 2, 0, 0, 3, 2,\n",
       "       0, 5, 5, 1, 3, 1, 3, 1, 3, 0, 3, 3, 1, 2, 2, 1, 1, 1, 2, 0, 3, 3,\n",
       "       3, 1, 3, 0, 0, 3, 2, 3, 3, 1, 3, 3, 1, 2, 1, 5, 1, 1, 1, 1, 1, 0,\n",
       "       1, 1, 1, 1, 1, 2, 1, 0, 0, 0, 0, 0, 0, 0, 2, 1, 3, 1, 0, 0, 3, 1,\n",
       "       0, 1, 2, 2, 1, 1, 1, 0, 0, 0, 0, 0, 0, 2, 0, 1, 0, 0, 5, 0, 1, 1,\n",
       "       0, 1, 1, 1, 1, 3, 5, 1, 5, 1, 1, 1, 1, 1, 1, 1, 1, 1, 3, 1, 1, 5,\n",
       "       1, 1, 2, 3, 1, 1, 1, 5, 4, 3, 1, 1, 2, 2, 0, 2, 2, 2, 2, 2, 2, 2,\n",
       "       1, 2, 2, 2, 1, 2, 4, 2, 2, 1, 2, 2, 0, 3, 1, 0, 1, 3, 3, 1, 2, 3,\n",
       "       2, 3, 2, 2, 3, 3, 3, 1, 1, 1, 2, 3, 1, 0, 3, 2, 0, 1, 5, 1, 1, 1,\n",
       "       1, 3, 3, 0, 1, 2, 2, 2, 0, 3, 1, 3, 1, 1])"
      ]
     },
     "execution_count": 48,
     "metadata": {},
     "output_type": "execute_result"
    }
   ],
   "source": [
    "from sklearn.cluster import KMeans\n",
    "clu=(KMeans(n_clusters= 6))\n",
    "clu.fit(infered_vectors_list)\n",
    "clu.labels_"
   ]
  },
  {
   "cell_type": "code",
   "execution_count": 49,
   "metadata": {},
   "outputs": [],
   "source": [
    "df['group']='0'\n",
    "# df\n",
    "for idx in range(0,300):\n",
    "    df.loc[idx, 'group'] = clu.labels_[idx]\n"
   ]
  },
  {
   "cell_type": "code",
   "execution_count": 50,
   "metadata": {},
   "outputs": [
    {
     "data": {
      "text/html": [
       "<div>\n",
       "<style scoped>\n",
       "    .dataframe tbody tr th:only-of-type {\n",
       "        vertical-align: middle;\n",
       "    }\n",
       "\n",
       "    .dataframe tbody tr th {\n",
       "        vertical-align: top;\n",
       "    }\n",
       "\n",
       "    .dataframe thead th {\n",
       "        text-align: right;\n",
       "    }\n",
       "</style>\n",
       "<table border=\"1\" class=\"dataframe\">\n",
       "  <thead>\n",
       "    <tr style=\"text-align: right;\">\n",
       "      <th></th>\n",
       "      <th>content</th>\n",
       "      <th>title</th>\n",
       "      <th>d2v_Vec</th>\n",
       "      <th>group</th>\n",
       "    </tr>\n",
       "  </thead>\n",
       "  <tbody>\n",
       "    <tr>\n",
       "      <th>0</th>\n",
       "      <td>前 總統 馬 英九 （ 右 ） 30 日 在 立法院 出席 「 青島東 很多 派 對 」 第...</td>\n",
       "      <td>馬英九出席國會青年體驗營（1）</td>\n",
       "      <td>[0.23528457, -1.2880014, -0.53503346, -1.02029...</td>\n",
       "      <td>1</td>\n",
       "    </tr>\n",
       "    <tr>\n",
       "      <th>1</th>\n",
       "      <td>國民黨 台北市 長 參選人 丁守中 （ 前右 ） 30 日 在 台北 出席 「 中華海峽 兩...</td>\n",
       "      <td>丁守中與吳伯雄同台（2）</td>\n",
       "      <td>[-0.056727484, -0.8294517, -0.5735456, -1.0049...</td>\n",
       "      <td>1</td>\n",
       "    </tr>\n",
       "    <tr>\n",
       "      <th>2</th>\n",
       "      <td>國民黨 台北市 長 參選人 丁守中 （ 左 ） 30 日 在 台北 出席 「 中華海峽 兩岸...</td>\n",
       "      <td>丁守中與吳伯雄同台（1）</td>\n",
       "      <td>[-0.017541343, -0.6924254, -0.45178822, -0.795...</td>\n",
       "      <td>1</td>\n",
       "    </tr>\n",
       "    <tr>\n",
       "      <th>3</th>\n",
       "      <td>（ 中央社 記者 蕭博陽 南投 縣 30 日電 ） 總統 蔡 英文 今天 視察 草屯 植物 ...</td>\n",
       "      <td>墓仔埔變公園 總統肯定洪國浩施政</td>\n",
       "      <td>[1.2334144, -0.10023116, -3.6274984, -1.173198...</td>\n",
       "      <td>2</td>\n",
       "    </tr>\n",
       "    <tr>\n",
       "      <th>4</th>\n",
       "      <td>（ 中央社 記者 王淑芬 高雄 30 日電 ） 總統府 秘書長 陳 菊 今天 南下 出席 高...</td>\n",
       "      <td>陳菊：為陳其邁輔選是應該也是責任</td>\n",
       "      <td>[-1.1006318, 0.49320358, -0.094546005, 0.11488...</td>\n",
       "      <td>1</td>\n",
       "    </tr>\n",
       "  </tbody>\n",
       "</table>\n",
       "</div>"
      ],
      "text/plain": [
       "                                             content             title  \\\n",
       "0  前 總統 馬 英九 （ 右 ） 30 日 在 立法院 出席 「 青島東 很多 派 對 」 第...   馬英九出席國會青年體驗營（1）   \n",
       "1  國民黨 台北市 長 參選人 丁守中 （ 前右 ） 30 日 在 台北 出席 「 中華海峽 兩...      丁守中與吳伯雄同台（2）   \n",
       "2  國民黨 台北市 長 參選人 丁守中 （ 左 ） 30 日 在 台北 出席 「 中華海峽 兩岸...      丁守中與吳伯雄同台（1）   \n",
       "3  （ 中央社 記者 蕭博陽 南投 縣 30 日電 ） 總統 蔡 英文 今天 視察 草屯 植物 ...  墓仔埔變公園 總統肯定洪國浩施政   \n",
       "4  （ 中央社 記者 王淑芬 高雄 30 日電 ） 總統府 秘書長 陳 菊 今天 南下 出席 高...  陳菊：為陳其邁輔選是應該也是責任   \n",
       "\n",
       "                                             d2v_Vec group  \n",
       "0  [0.23528457, -1.2880014, -0.53503346, -1.02029...     1  \n",
       "1  [-0.056727484, -0.8294517, -0.5735456, -1.0049...     1  \n",
       "2  [-0.017541343, -0.6924254, -0.45178822, -0.795...     1  \n",
       "3  [1.2334144, -0.10023116, -3.6274984, -1.173198...     2  \n",
       "4  [-1.1006318, 0.49320358, -0.094546005, 0.11488...     1  "
      ]
     },
     "execution_count": 50,
     "metadata": {},
     "output_type": "execute_result"
    }
   ],
   "source": [
    "df.head()"
   ]
  },
  {
   "cell_type": "code",
   "execution_count": 51,
   "metadata": {},
   "outputs": [
    {
     "name": "stdout",
     "output_type": "stream",
     "text": [
      "                                               content group\n",
      "110  【 記者 簡玲穎 台北 報導 】 日本 產經 新聞 報導 專訪 外交部 長 吳釗燮 的 內容...     0\n",
      "192  （ 中央社 華盛頓 29 日 綜合 外電 報導 ） 兩名 美國 官員 告訴 美國 有線 電視...     0\n",
      "195  （ 中央社 華盛頓 29 日 綜合 外電 報導 ） 兩名 美國 官員 告訴 美國 有線 電視...     0\n",
      "57   兩名 美國 官員 告訴 美國 有線 電視 新聞網 （ Ｃ Ｎ Ｎ ） ， 美國 國務院 已 ...     0\n",
      "6    （ 中央社 記者 游凱翔 台北 30 日電 ） CNN 報導 ， 美國 國務院 已 要求 派...     0\n"
     ]
    }
   ],
   "source": [
    "### 取第0個值_行，在第0個欄位('content')_欄\n",
    "print(df.iloc[[110,192,195,57,6],[0,3]])"
   ]
  },
  {
   "cell_type": "code",
   "execution_count": 53,
   "metadata": {},
   "outputs": [
    {
     "data": {
      "text/html": [
       "<div>\n",
       "<style scoped>\n",
       "    .dataframe tbody tr th:only-of-type {\n",
       "        vertical-align: middle;\n",
       "    }\n",
       "\n",
       "    .dataframe tbody tr th {\n",
       "        vertical-align: top;\n",
       "    }\n",
       "\n",
       "    .dataframe thead th {\n",
       "        text-align: right;\n",
       "    }\n",
       "</style>\n",
       "<table border=\"1\" class=\"dataframe\">\n",
       "  <thead>\n",
       "    <tr style=\"text-align: right;\">\n",
       "      <th></th>\n",
       "      <th>content</th>\n",
       "      <th>title</th>\n",
       "      <th>d2v_Vec</th>\n",
       "      <th>group</th>\n",
       "    </tr>\n",
       "  </thead>\n",
       "  <tbody>\n",
       "    <tr>\n",
       "      <th>20</th>\n",
       "      <td>立法院 朝野 黨團 今天 協商 公司法 部分 條文 修正 草案 ， 達成 下午 召開 院會 ...</td>\n",
       "      <td>朝野達共識 立院處理公司法</td>\n",
       "      <td>[-0.5548088, 1.7096705, -0.22628382, 1.0024828...</td>\n",
       "      <td>5</td>\n",
       "    </tr>\n",
       "    <tr>\n",
       "      <th>48</th>\n",
       "      <td>〔 中央社 台北 訊 〕 太平洋 流通 投資 股份 有限公司 昨天 表示 ， 媒體 報導 誣...</td>\n",
       "      <td>太流否認有向政府高層溝通公司法</td>\n",
       "      <td>[-0.28124636, -0.33023456, -0.31256658, 0.2775...</td>\n",
       "      <td>5</td>\n",
       "    </tr>\n",
       "    <tr>\n",
       "      <th>69</th>\n",
       "      <td>立法院 院會 二十九日 二讀 公司法 部分 條文 修正 草案 無爭議 條文 ， 未 採納 限...</td>\n",
       "      <td>公司法爭議條文 7/6再處理</td>\n",
       "      <td>[-1.4916985, 2.7681901, -0.04731376, 0.6450438...</td>\n",
       "      <td>5</td>\n",
       "    </tr>\n",
       "    <tr>\n",
       "      <th>111</th>\n",
       "      <td>【 記者 蕭文彥 台北 報導 】 立法院 日前 初審 公司法 ， 經濟部 參考 立委 提案 ...</td>\n",
       "      <td>「不對就不對」 蘇嘉全不護短</td>\n",
       "      <td>[-0.7390547, -0.69239753, 0.0141962, 0.0882007...</td>\n",
       "      <td>5</td>\n",
       "    </tr>\n",
       "    <tr>\n",
       "      <th>112</th>\n",
       "      <td>【 記者 陳 金 寶 台北 報導 】 立法院 臨時 會委員會 即將 在 下 週開會 ， 將處...</td>\n",
       "      <td>擺爛 國家百億預算待立委解凍</td>\n",
       "      <td>[0.7171309, -3.3870268, -2.015518, -1.1692299,...</td>\n",
       "      <td>5</td>\n",
       "    </tr>\n",
       "    <tr>\n",
       "      <th>147</th>\n",
       "      <td>立法院 臨時 會針 對 公司法 修正 草案 展開 協商 ， 爭議 多年 的 Ｓ Ｏ Ｇ Ｏ ...</td>\n",
       "      <td>公司法協商 藍綠砲口一致 SOGO條款刪但書</td>\n",
       "      <td>[-0.59349024, 0.572629, -0.39206576, 0.8985436...</td>\n",
       "      <td>5</td>\n",
       "    </tr>\n",
       "    <tr>\n",
       "      <th>194</th>\n",
       "      <td>（ 中央社 記者 陳 俊華 台北 29 日電 ） 立法院 院會 今天 二讀 公司法 部分 條...</td>\n",
       "      <td>公司法修法 柯建銘：7/6一定處理完成</td>\n",
       "      <td>[-0.57256144, 0.5580781, -1.3008696, 0.5175052...</td>\n",
       "      <td>5</td>\n",
       "    </tr>\n",
       "    <tr>\n",
       "      <th>204</th>\n",
       "      <td>（ 中央社 記者 王承中 、 陳俊華 台北 29 日電 ） 立法院 院會 今天 二讀 公司法...</td>\n",
       "      <td>公司法無爭議條文二讀 未增訂治理人員條文</td>\n",
       "      <td>[-1.3348414, 2.7703373, 0.07912255, 0.97220635...</td>\n",
       "      <td>5</td>\n",
       "    </tr>\n",
       "    <tr>\n",
       "      <th>206</th>\n",
       "      <td>（ 中央社 記者 陳 俊華 台北 29 日電 ） 立法院 臨時會 院會 今天 進行 公司法 ...</td>\n",
       "      <td>公司法廣泛討論 綠：經濟的轉型正義</td>\n",
       "      <td>[0.8969883, 1.1474276, -0.17198852, 1.636375, ...</td>\n",
       "      <td>5</td>\n",
       "    </tr>\n",
       "    <tr>\n",
       "      <th>219</th>\n",
       "      <td>（ 中央社 記者 王承中 、 蘇龍 麒 台北 29 日電 ） 立法院 朝野 黨團 今天 協商...</td>\n",
       "      <td>朝野達成共識 立院開始處理公司法</td>\n",
       "      <td>[-1.2905177, 2.7588987, -0.1998129, 1.0772098,...</td>\n",
       "      <td>5</td>\n",
       "    </tr>\n",
       "    <tr>\n",
       "      <th>227</th>\n",
       "      <td>（ 中央社 記者 王承中 台北 29 日電 ） 立法院 朝野 黨團 今天 再度 協商 公司法...</td>\n",
       "      <td>公司法修法 爭議條文立法院7/6處理</td>\n",
       "      <td>[0.54737234, 1.1021692, -0.8871434, 0.41642544...</td>\n",
       "      <td>5</td>\n",
       "    </tr>\n",
       "    <tr>\n",
       "      <th>282</th>\n",
       "      <td>〔 記者 李仁龍 台北 報導 〕 立法院 日前 初審 公司法 部份 條文 修正 草案 ， 經...</td>\n",
       "      <td>經濟部設ＳＯＧＯ帝王條款 蘇嘉全：不護短</td>\n",
       "      <td>[-1.7154309, -0.2330181, 0.52267194, 0.1712894...</td>\n",
       "      <td>5</td>\n",
       "    </tr>\n",
       "  </tbody>\n",
       "</table>\n",
       "</div>"
      ],
      "text/plain": [
       "                                               content  \\\n",
       "20   立法院 朝野 黨團 今天 協商 公司法 部分 條文 修正 草案 ， 達成 下午 召開 院會 ...   \n",
       "48   〔 中央社 台北 訊 〕 太平洋 流通 投資 股份 有限公司 昨天 表示 ， 媒體 報導 誣...   \n",
       "69   立法院 院會 二十九日 二讀 公司法 部分 條文 修正 草案 無爭議 條文 ， 未 採納 限...   \n",
       "111  【 記者 蕭文彥 台北 報導 】 立法院 日前 初審 公司法 ， 經濟部 參考 立委 提案 ...   \n",
       "112  【 記者 陳 金 寶 台北 報導 】 立法院 臨時 會委員會 即將 在 下 週開會 ， 將處...   \n",
       "147  立法院 臨時 會針 對 公司法 修正 草案 展開 協商 ， 爭議 多年 的 Ｓ Ｏ Ｇ Ｏ ...   \n",
       "194  （ 中央社 記者 陳 俊華 台北 29 日電 ） 立法院 院會 今天 二讀 公司法 部分 條...   \n",
       "204  （ 中央社 記者 王承中 、 陳俊華 台北 29 日電 ） 立法院 院會 今天 二讀 公司法...   \n",
       "206  （ 中央社 記者 陳 俊華 台北 29 日電 ） 立法院 臨時會 院會 今天 進行 公司法 ...   \n",
       "219  （ 中央社 記者 王承中 、 蘇龍 麒 台北 29 日電 ） 立法院 朝野 黨團 今天 協商...   \n",
       "227  （ 中央社 記者 王承中 台北 29 日電 ） 立法院 朝野 黨團 今天 再度 協商 公司法...   \n",
       "282  〔 記者 李仁龍 台北 報導 〕 立法院 日前 初審 公司法 部份 條文 修正 草案 ， 經...   \n",
       "\n",
       "                      title  \\\n",
       "20            朝野達共識 立院處理公司法   \n",
       "48          太流否認有向政府高層溝通公司法   \n",
       "69           公司法爭議條文 7/6再處理   \n",
       "111          「不對就不對」 蘇嘉全不護短   \n",
       "112          擺爛 國家百億預算待立委解凍   \n",
       "147  公司法協商 藍綠砲口一致 SOGO條款刪但書   \n",
       "194     公司法修法 柯建銘：7/6一定處理完成   \n",
       "204    公司法無爭議條文二讀 未增訂治理人員條文   \n",
       "206       公司法廣泛討論 綠：經濟的轉型正義   \n",
       "219        朝野達成共識 立院開始處理公司法   \n",
       "227      公司法修法 爭議條文立法院7/6處理   \n",
       "282    經濟部設ＳＯＧＯ帝王條款 蘇嘉全：不護短   \n",
       "\n",
       "                                               d2v_Vec group  \n",
       "20   [-0.5548088, 1.7096705, -0.22628382, 1.0024828...     5  \n",
       "48   [-0.28124636, -0.33023456, -0.31256658, 0.2775...     5  \n",
       "69   [-1.4916985, 2.7681901, -0.04731376, 0.6450438...     5  \n",
       "111  [-0.7390547, -0.69239753, 0.0141962, 0.0882007...     5  \n",
       "112  [0.7171309, -3.3870268, -2.015518, -1.1692299,...     5  \n",
       "147  [-0.59349024, 0.572629, -0.39206576, 0.8985436...     5  \n",
       "194  [-0.57256144, 0.5580781, -1.3008696, 0.5175052...     5  \n",
       "204  [-1.3348414, 2.7703373, 0.07912255, 0.97220635...     5  \n",
       "206  [0.8969883, 1.1474276, -0.17198852, 1.636375, ...     5  \n",
       "219  [-1.2905177, 2.7588987, -0.1998129, 1.0772098,...     5  \n",
       "227  [0.54737234, 1.1021692, -0.8871434, 0.41642544...     5  \n",
       "282  [-1.7154309, -0.2330181, 0.52267194, 0.1712894...     5  "
      ]
     },
     "execution_count": 53,
     "metadata": {},
     "output_type": "execute_result"
    }
   ],
   "source": [
    "df[df['group'] == 5]"
   ]
  },
  {
   "cell_type": "code",
   "execution_count": null,
   "metadata": {},
   "outputs": [],
   "source": []
  }
 ],
 "metadata": {
  "kernelspec": {
   "display_name": "Python 3",
   "language": "python",
   "name": "python3"
  },
  "language_info": {
   "codemirror_mode": {
    "name": "ipython",
    "version": 3
   },
   "file_extension": ".py",
   "mimetype": "text/x-python",
   "name": "python",
   "nbconvert_exporter": "python",
   "pygments_lexer": "ipython3",
   "version": "3.6.0"
  }
 },
 "nbformat": 4,
 "nbformat_minor": 2
}
